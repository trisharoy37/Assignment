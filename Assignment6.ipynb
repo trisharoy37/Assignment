{
 "cells": [
  {
   "cell_type": "markdown",
   "id": "493b7294",
   "metadata": {},
   "source": [
    "Class is a template or blueprint for creating objects it have instance variables and instance methods that object of that class will have. Class is used to achieve code reusability.\n",
    "\n",
    "Object is an instance of a class. It contains every variable and functions that are there in class. Each new object creates new variables and methods."
   ]
  },
  {
   "cell_type": "code",
   "execution_count": 14,
   "id": "1a646ad2",
   "metadata": {},
   "outputs": [],
   "source": [
    "class A:\n",
    "    def __init__(self,name, roll_no):\n",
    "        self.name=name\n",
    "        self.roll_no=roll_no\n",
    "    def student_marks(self,maths,english,science):\n",
    "        self.maths=maths\n",
    "        self.english=english\n",
    "        self.science=science\n",
    "    def avg_marks(self):\n",
    "        self.avg_m=(self.maths+self.english+self.science)/3\n",
    "        return self.avg_m\n",
    "    def st_details(self):\n",
    "        return self.name, self.roll_no, self.avg_m\n",
    "    "
   ]
  },
  {
   "cell_type": "code",
   "execution_count": 15,
   "id": "c86844a0",
   "metadata": {},
   "outputs": [
    {
     "data": {
      "text/plain": [
       "93.66666666666667"
      ]
     },
     "execution_count": 15,
     "metadata": {},
     "output_type": "execute_result"
    }
   ],
   "source": [
    "obj=A(\"Trisha\",15)\n",
    "obj.student_marks(88,98,95)\n",
    "obj.avg_marks()"
   ]
  },
  {
   "cell_type": "markdown",
   "id": "a3bc0019",
   "metadata": {},
   "source": [
    "The Four Pillars of OOPs are Polymorphism, Encapsulation, Abstraction, Inheritance "
   ]
  },
  {
   "cell_type": "markdown",
   "id": "bd5b37ba",
   "metadata": {},
   "source": [
    "self is used in OOPs as self is used to refer to the current instance of a class. It is also used while defining the methods as first parameter as using self we can make sure that the give method and variable is the part of the current class. Although we can use any other word as self is replacable and it is not a keyword."
   ]
  },
  {
   "cell_type": "markdown",
   "id": "5d7870ec",
   "metadata": {},
   "source": [
    "Inhertiance is a property of class in which one class (base class) derives the property of (parent class) so that we can use variables and methods of different class in current class."
   ]
  },
  {
   "cell_type": "code",
   "execution_count": 11,
   "id": "4b30bace",
   "metadata": {},
   "outputs": [
    {
     "name": "stdout",
     "output_type": "stream",
     "text": [
      "this is a car\n"
     ]
    }
   ],
   "source": [
    "#Single Inheritance\n",
    "class Vehicle:\n",
    "    def __init__(self):\n",
    "        print(\"This is a vehicle\")\n",
    "class Car(Vehicle):\n",
    "    def __init__(self):\n",
    "        super().__init__()\n",
    "        print(\"this is a car\")\n",
    "obj=Car()\n",
    "    "
   ]
  },
  {
   "cell_type": "code",
   "execution_count": 10,
   "id": "af304117",
   "metadata": {},
   "outputs": [
    {
     "name": "stdout",
     "output_type": "stream",
     "text": [
      "This is a vehicle\n"
     ]
    }
   ],
   "source": [
    "#Multiple Inheritance\n",
    "class Vehicle:\n",
    "    def __init__(self):\n",
    "        print(\"This is a vehicle\")\n",
    "class FourWheeler:\n",
    "    def __init__(self):\n",
    "        print(\"This is a 4 Wheeler Vehicle\")\n",
    "class Car(Vehicle,FourWheeler):\n",
    "    pass\n",
    "obj1=Car()"
   ]
  },
  {
   "cell_type": "code",
   "execution_count": 26,
   "id": "4fcad650",
   "metadata": {},
   "outputs": [
    {
     "name": "stdout",
     "output_type": "stream",
     "text": [
      "This is a vehicle\n",
      "This is a 4 Wheeler Vehicle\n",
      "12 13\n"
     ]
    }
   ],
   "source": [
    "#Multilevel Inheritance\n",
    "class Vehicle:\n",
    "    def __init__(self,x,y):\n",
    "        self.x=x\n",
    "        self.y=y\n",
    "        print(\"This is a vehicle\")\n",
    "class FourWheeler(Vehicle):\n",
    "    def __init__(self,x,y):\n",
    "        super().__init__(x,y)\n",
    "        print(\"This is a 4 Wheeler Vehicle\")\n",
    "class Car(FourWheeler):\n",
    "    def __init__(self,x,y):\n",
    "        super().__init__(x,y)\n",
    "    def func(self):\n",
    "        print(self.x,self.y)\n",
    "    pass\n",
    "obj2=Car(12,13)\n",
    "obj2.func()"
   ]
  }
 ],
 "metadata": {
  "kernelspec": {
   "display_name": "Python 3 (ipykernel)",
   "language": "python",
   "name": "python3"
  },
  "language_info": {
   "codemirror_mode": {
    "name": "ipython",
    "version": 3
   },
   "file_extension": ".py",
   "mimetype": "text/x-python",
   "name": "python",
   "nbconvert_exporter": "python",
   "pygments_lexer": "ipython3",
   "version": "3.8.12"
  }
 },
 "nbformat": 4,
 "nbformat_minor": 5
}
