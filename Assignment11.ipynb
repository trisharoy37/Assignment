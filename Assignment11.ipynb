{
 "cells": [
  {
   "cell_type": "markdown",
   "id": "7fef7ed9-2036-460b-968b-433ed774f728",
   "metadata": {},
   "source": [
    "### What is multiprocessing in python? Why is it useful?"
   ]
  },
  {
   "cell_type": "markdown",
   "id": "fdd172d7-9038-4a35-a648-7fc1d132639d",
   "metadata": {},
   "source": [
    "Multiprocessing in Python refers to the ability to create and manage multiple processess concurrently within a program. Each process runs independently and has its own memory space, allowing for true parallel execution, especially on multi-core processors.\n",
    "\n",
    "The multiprocessing module in Python provides a high-level interface for creating and managing process. It allows you to take advantage of multiple CPU cores and achieve true parallelism, making it useful for a variety of scenarios."
   ]
  },
  {
   "cell_type": "markdown",
   "id": "75c29967-7610-45cf-9f26-13cf51582dff",
   "metadata": {
    "tags": []
   },
   "source": [
    "### Write a python code to create a process using the multiprocessing module."
   ]
  },
  {
   "cell_type": "code",
   "execution_count": 3,
   "id": "1bc56116-3d5c-42d5-98d2-dbaef4930877",
   "metadata": {},
   "outputs": [
    {
     "name": "stdout",
     "output_type": "stream",
     "text": [
      "this my main prog\n",
      "this is my multiprocessing prog\n"
     ]
    }
   ],
   "source": [
    "import multiprocessing\n",
    "def test():\n",
    "    print(\"this is my multiprocessing prog\")\n",
    "if __name__=='__main__':\n",
    "    m=multiprocessing.Process(target=test)\n",
    "    print(\"this my main prog\")\n",
    "    m.start()\n",
    "    m.join()"
   ]
  },
  {
   "cell_type": "markdown",
   "id": "e44045ab-89a2-4211-a355-910781d02748",
   "metadata": {},
   "source": [
    "### What is a multiprocessing pool in python? Why is it used? "
   ]
  },
  {
   "cell_type": "markdown",
   "id": "e8cb7d7d-1fbf-4e59-bdd3-ac6a2f623174",
   "metadata": {},
   "source": [
    "A multiprocessing pool in Python, specifically provided by the multiprocessing module, it is a high-level abstraction that allows you to manage a pool of worker processes to perform tasks concurrently. It provides an easy way to distribute the workload across multiple processes, enabling parallel execution and efficient utilization of available CPU cores.\n",
    "\n",
    "A multiprocessing pool is particularly useful for tasks that can be parallelized, such as applying a function to a large dataset or performing multiple independent calculations. Instead of creating and managing individual processess manually, you can use a pool to abstract away the details of process creation, distribution and synchronization."
   ]
  },
  {
   "cell_type": "code",
   "execution_count": null,
   "id": "8224f873-b579-46a0-806a-117ef9c35830",
   "metadata": {},
   "outputs": [],
   "source": []
  },
  {
   "cell_type": "markdown",
   "id": "797e74f3-ec08-4608-9232-a35da46c1c46",
   "metadata": {},
   "source": [
    "### What are the differences between multiprocessing and multithreading? "
   ]
  },
  {
   "cell_type": "markdown",
   "id": "c89d7c22-b7a7-4d7e-9b15-e70839c6eec1",
   "metadata": {},
   "source": [
    "1. Concurrency Model:\n",
    "Multithreading uses threads within a single process, sharing the same memory space, allowing for efficient communication but vulnerable to data races and global interpreter lock(GIL) in Python.\n",
    "\n",
    "Multiprocessing uses multiple processes, each with its own memory space, avoiding GIL issues but requiring inter-process communication(IPC) for data sharing\n",
    "\n",
    "2. Parallelism:\n",
    "Multithreading is suitable for I/O-bound tasks and may not fully utilize multiple CPU cores.\n",
    "\n",
    "Multiprocessing leverages multiple CPU cores and is better suited for CPU-bound tasks, achieving true parallelism.\n",
    "\n",
    "3. Complexity and Overhead:\n",
    "Multithreading has lower overhead and is often easier to implement but can be complex due to synchronization and potential race conditions.\n",
    "\n",
    "Multiprocessing introduces higher overhead due to separate memory spaces but offers better isolation and avoids many threading-related complexities"
   ]
  },
  {
   "cell_type": "markdown",
   "id": "c5cf0536-0d49-480f-a019-01183d7c911b",
   "metadata": {},
   "source": [
    "### How can we create a pool of worker processes in python using the multiprocessing module?"
   ]
  },
  {
   "cell_type": "code",
   "execution_count": 1,
   "id": "d7505b69-16e9-4b66-b63d-da91f33122f2",
   "metadata": {},
   "outputs": [
    {
     "name": "stdout",
     "output_type": "stream",
     "text": [
      "[1, 8, 27, 64, 125, 216, 343, 512, 729]\n"
     ]
    }
   ],
   "source": [
    "import multiprocessing\n",
    "def cube(n):\n",
    "    return n*n*n\n",
    "if __name__=='__main__':\n",
    "    with multiprocessing.Pool(processes=3) as pool:\n",
    "        out = pool.map(cube,[1,2,3,4,5,6,7,8,9]) \n",
    "        print(out)"
   ]
  },
  {
   "cell_type": "markdown",
   "id": "474fa507-6f0d-4b6b-96a9-c28be50ad877",
   "metadata": {},
   "source": [
    "###  Write a python program to create 4 processes, each process should print a different number using the multiprocessing module in python."
   ]
  },
  {
   "cell_type": "code",
   "execution_count": 2,
   "id": "035ee849-fedd-4c7e-b92c-ddae08f8318a",
   "metadata": {},
   "outputs": [
    {
     "name": "stdout",
     "output_type": "stream",
     "text": [
      "1\n",
      "2\n",
      "3\n",
      "4\n"
     ]
    }
   ],
   "source": [
    "import multiprocessing\n",
    "def print_num(n):\n",
    "    print(n)\n",
    "if __name__=='__main__':\n",
    "    list=[]\n",
    "    for i in range(1,5):\n",
    "        p=multiprocessing.Process(target=print_num,args=(i,))\n",
    "        list.append(p)\n",
    "        p.start()\n",
    "    for j in list:\n",
    "        j.join()\n",
    "    "
   ]
  }
 ],
 "metadata": {
  "kernelspec": {
   "display_name": "Python 3 (ipykernel)",
   "language": "python",
   "name": "python3"
  },
  "language_info": {
   "codemirror_mode": {
    "name": "ipython",
    "version": 3
   },
   "file_extension": ".py",
   "mimetype": "text/x-python",
   "name": "python",
   "nbconvert_exporter": "python",
   "pygments_lexer": "ipython3",
   "version": "3.10.8"
  }
 },
 "nbformat": 4,
 "nbformat_minor": 5
}
