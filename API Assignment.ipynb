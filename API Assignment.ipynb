{
 "cells": [
  {
   "cell_type": "markdown",
   "id": "6e2b1d80",
   "metadata": {},
   "source": [
    "### What is an API? Give an example, where an API is used in real life.\n",
    "API, or Application Programming Interface, is a set of rules and protocols that allow different software applications to communicate with each other. APIs define the methods and data formats that applications can use to request and exchange information, making it easier to integrate different systems and services.\n",
    "\n",
    "For example **Social Media Sharing**\n",
    "Consider a scenario where you're using a mobile app or website to share a photo or post on social media platforms like Facebook or Twitter. When you click the \"Share\" button, the application communicates with the respective social media platform's API to accomplish the following:\n",
    "1. Authentication\n",
    "2. Data Submission\n",
    "3. API Processing\n",
    "4. Response\n",
    "5. User Feedback\n"
   ]
  },
  {
   "cell_type": "markdown",
   "id": "ba55a393",
   "metadata": {},
   "source": [
    "### Give advantages and disadvantages of using API.\n",
    "\n",
    "**Advantages:**\n",
    "- Interoperability: As API allow different software components or systems to communicate and work together, regardless of their underlying technologies or programming languages.\n",
    "- Reusability: Developers can leverage existing APIs to add features to their applications without reinventing the wheel, saving time and effort.\n",
    "- Faster Development \n",
    "- Specialization\n",
    "- Security: Access can be restricted through authentication, authorization, and rate limiting.\n",
    "- Cross-Platform Compatibility\n",
    "\n",
    "**Disadvantages:**\n",
    "- Dependency\n",
    "- Versioning and Compatibility\n",
    "- Performance Overhead\n",
    "- Security Risks\n",
    "- Limited Control\n",
    "- Costs\n",
    "- Documentation and Support"
   ]
  },
  {
   "cell_type": "markdown",
   "id": "fa02eefa",
   "metadata": {},
   "source": [
    "### What is a Web API? Differentiate between API and Web API. \n",
    "A Web API (Application Programming Interface) is a specific type of API that is designed to be accessed over the internet using HTTP (Hypertext Transfer Protocol) requests. It enables the interaction between different software systems or applications over the web. \n",
    "\n",
    "While API is a broad term encompassing various methods of software communication, a Web API specifically refers to an API that operates over the internet using HTTP(S) and is accessible through URIs. Web APIs are commonly used for building web services, enabling different applications to interact with each other over the web."
   ]
  },
  {
   "cell_type": "markdown",
   "id": "73fcdd1b",
   "metadata": {},
   "source": [
    "### Explain REST and SOAP Architecture. Mention shortcomings of SOAP.\n",
    "REST (Representational State Transfer) and SOAP (Simple Object Access Protocol) are two architectural styles used for designing web services. They have different approaches and characteristics.\n",
    "\n",
    "**REST (Representational State Transfer):**\n",
    "1. **Stateless:** This means each request from a client to a server must contain all the information needed to understand and process the request. The server doesn't store any information about the client's state between requests.\n",
    "2. **Resource-Based:** REST is centered around resources, which can be any object or data that needs to be accessed or manipulated. Each resource is identified by a unique URL (Uniform Resource Locator).\n",
    "3. **HTTP Methods:** REST uses standard HTTP methods (GET, POST, PUT, DELETE, etc.) to perform operations on resources. For example, GET is used to retrieve data, POST to create data, PUT to update data, and DELETE to remove data.\n",
    "4. **Data Formats:** REST typically uses lightweight data formats like JSON or XML for data representation, making it easy for both humans and machines to understand.\n",
    "\n",
    "**SOAP(Simple Object Access Protocol):**\n",
    "1. **Protocol-Based:** SOAP is a protocol for exchanging structured information in the implementation of web services. It is not limited to HTTP and can be used over other transport protocols such as SMTP, TCP, and more.\n",
    "2. **XML-Based:** SOAP messages are typically formatted using XML. They have a strict structure with headers for message routing and metadata and a body for the actual data being transmitted.\n",
    "3. **Complexity:** SOAP is often considered more complex compared to REST due to its strict message format and support for various features like security, transactions, and reliability.\n",
    "4. **Built-In Standards:** SOAP has built-in support for standards like WS-Security for authentication and encryption, WS-ReliableMessaging for guaranteed message delivery, and WS-AtomicTransaction for distributed transactions.\n",
    "5. **Strict Contract:** SOAP services typically have a strict contract defined using Web Services Description Language (WSDL), which specifies the operations that can be performed, the data types used, and the message format."
   ]
  },
  {
   "cell_type": "markdown",
   "id": "fbab560e",
   "metadata": {},
   "source": [
    "### Differentiate between REST and SOAP.\n",
    "REST and SOAP represent two different approaches to building web services. REST emphasizes simplicity, lightweight data formats, and standard HTTP methods, while SOAP focuses on a strict messaging protocol with support for various features like security and transactions. The choice between REST and SOAP depends on the specific requirements and constraints of a given project."
   ]
  }
 ],
 "metadata": {
  "kernelspec": {
   "display_name": "Python 3 (ipykernel)",
   "language": "python",
   "name": "python3"
  },
  "language_info": {
   "codemirror_mode": {
    "name": "ipython",
    "version": 3
   },
   "file_extension": ".py",
   "mimetype": "text/x-python",
   "name": "python",
   "nbconvert_exporter": "python",
   "pygments_lexer": "ipython3",
   "version": "3.8.12"
  }
 },
 "nbformat": 4,
 "nbformat_minor": 5
}
