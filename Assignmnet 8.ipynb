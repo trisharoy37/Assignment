{
 "cells": [
  {
   "cell_type": "markdown",
   "id": "36a68bc6",
   "metadata": {},
   "source": [
    "### What is an Exception in python? Write the difference between Exceptions and Syntax errors."
   ]
  },
  {
   "cell_type": "markdown",
   "id": "e24093ed",
   "metadata": {},
   "source": [
    "In Python, an exception is an event that occurs during the execution of a program that disrupts the normal flow of the program's instructions. When an exception occurs, the normal program execution is halted, and the control is transferred to an exception-handling code.\n",
    "**Syntax error** occur when you write code that doesn't follow the proper syntax rules of the programming language. In other words, your code is not structured correctly, and the interpreter cannot understand it. These errors prevent your code from even running. Examples of syntax errors include *missing colons, mismatched parentheses, and using keywords incorrectly.*\n",
    "**Exceptions** occur when your code is syntactically correct, but an unexpected situation or error occurs during runtime. *These situations might include attempting to divide by zero, trying to access a non-existent file, or attempting to index a list beyond its length.*\n"
   ]
  },
  {
   "cell_type": "markdown",
   "id": "bb3b78e4",
   "metadata": {},
   "source": [
    "### What happens when an exception is not handled? Explain with an example."
   ]
  },
  {
   "cell_type": "markdown",
   "id": "f84a23c6",
   "metadata": {},
   "source": [
    "When an exception is not handled in Python, it leads to what is called an \"unhandled exception.\" In such cases, the normal execution of the program is interrupted, and the interpreter displays an error message that provides information about the exception that occurred. If the exception is not caught and handled, it can lead to the termination of the program."
   ]
  },
  {
   "cell_type": "code",
   "execution_count": 9,
   "id": "7148f321",
   "metadata": {},
   "outputs": [
    {
     "name": "stdout",
     "output_type": "stream",
     "text": [
      "1\n",
      "2\n",
      "3\n",
      "4\n"
     ]
    },
    {
     "ename": "IndexError",
     "evalue": "list index out of range",
     "output_type": "error",
     "traceback": [
      "\u001b[1;31m---------------------------------------------------------------------------\u001b[0m",
      "\u001b[1;31mIndexError\u001b[0m                                Traceback (most recent call last)",
      "Cell \u001b[1;32mIn[9], line 4\u001b[0m\n\u001b[0;32m      2\u001b[0m l\u001b[38;5;241m=\u001b[39m[\u001b[38;5;241m1\u001b[39m,\u001b[38;5;241m2\u001b[39m,\u001b[38;5;241m3\u001b[39m,\u001b[38;5;241m4\u001b[39m]\n\u001b[0;32m      3\u001b[0m \u001b[38;5;28;01mfor\u001b[39;00m i \u001b[38;5;129;01min\u001b[39;00m \u001b[38;5;28mrange\u001b[39m(\u001b[38;5;241m10\u001b[39m):\n\u001b[1;32m----> 4\u001b[0m     \u001b[38;5;28mprint\u001b[39m(\u001b[43ml\u001b[49m\u001b[43m[\u001b[49m\u001b[43mi\u001b[49m\u001b[43m]\u001b[49m)\n\u001b[0;32m      5\u001b[0m \u001b[38;5;28mprint\u001b[39m(\u001b[38;5;124m\"\u001b[39m\u001b[38;5;124mprogram finished\u001b[39m\u001b[38;5;124m\"\u001b[39m)\n",
      "\u001b[1;31mIndexError\u001b[0m: list index out of range"
     ]
    }
   ],
   "source": [
    "#for example\n",
    "l=[1,2,3,4]\n",
    "for i in range(10):\n",
    "    print(l[i])\n",
    "print(\"program finished\")"
   ]
  },
  {
   "cell_type": "markdown",
   "id": "e40468c8",
   "metadata": {},
   "source": [
    "### Which Python statements are used to catch and handle exceptions? Explain with an example."
   ]
  },
  {
   "cell_type": "markdown",
   "id": "ea3241d8",
   "metadata": {},
   "source": [
    "try and except statements are used to catch and handle exceptions."
   ]
  },
  {
   "cell_type": "code",
   "execution_count": 10,
   "id": "5dfb9e50",
   "metadata": {
    "scrolled": true
   },
   "outputs": [
    {
     "name": "stdout",
     "output_type": "stream",
     "text": [
      "1\n",
      "2\n",
      "3\n",
      "4\n",
      "Indexerror caught\n",
      "program finished\n"
     ]
    }
   ],
   "source": [
    "#for example\n",
    "l=[1,2,3,4]\n",
    "try:\n",
    "    for i in range(10):\n",
    "        print(l[i])\n",
    "except IndexError:\n",
    "    print('Indexerror caught')\n",
    "print(\"program finished\")"
   ]
  },
  {
   "cell_type": "markdown",
   "id": "6fb2f102",
   "metadata": {},
   "source": [
    "### Explain with an example:"
   ]
  },
  {
   "cell_type": "markdown",
   "id": "f0090b1e",
   "metadata": {},
   "source": [
    "try and else"
   ]
  },
  {
   "cell_type": "code",
   "execution_count": 2,
   "id": "f1353be7",
   "metadata": {},
   "outputs": [
    {
     "name": "stdout",
     "output_type": "stream",
     "text": [
      "1\n",
      "2\n",
      "3\n",
      "4\n",
      "program working fine\n"
     ]
    }
   ],
   "source": [
    "l=[1,2,3,4]\n",
    "try:\n",
    "    for i in range(4):\n",
    "        print(l[i])\n",
    "except IndexError:\n",
    "    print('Indexerror caught')\n",
    "else:\n",
    "    print(\"program working fine\")"
   ]
  },
  {
   "cell_type": "markdown",
   "id": "9ba667b1",
   "metadata": {},
   "source": [
    "finally"
   ]
  },
  {
   "cell_type": "code",
   "execution_count": 3,
   "id": "7558e0b3",
   "metadata": {},
   "outputs": [
    {
     "name": "stdout",
     "output_type": "stream",
     "text": [
      "1\n",
      "2\n",
      "3\n",
      "4\n",
      "Indexerror caught\n",
      "finally will execute itself in any situation\n"
     ]
    }
   ],
   "source": [
    "l=[1,2,3,4]\n",
    "try:\n",
    "    for i in range(10):\n",
    "        print(l[i])\n",
    "except IndexError:\n",
    "    print('Indexerror caught')\n",
    "else:\n",
    "    print(\"program working fine\")\n",
    "finally:\n",
    "    print(\"finally will execute itself in any situation\")"
   ]
  },
  {
   "cell_type": "markdown",
   "id": "df39716c",
   "metadata": {},
   "source": [
    "raise"
   ]
  },
  {
   "cell_type": "code",
   "execution_count": 4,
   "id": "9f787cf2",
   "metadata": {},
   "outputs": [],
   "source": [
    "class validateyear(Exception):\n",
    "    def __init__(self,msg):\n",
    "        self.msg=msg"
   ]
  },
  {
   "cell_type": "code",
   "execution_count": 5,
   "id": "64e723e3",
   "metadata": {},
   "outputs": [],
   "source": [
    "def vy(year):\n",
    "    if year<2003:\n",
    "        raise validateyear(\"not eligible for voting\")\n",
    "    else:\n",
    "        print(\"eligible for voting\")"
   ]
  },
  {
   "cell_type": "code",
   "execution_count": 6,
   "id": "d7b9c4d6",
   "metadata": {},
   "outputs": [
    {
     "name": "stdout",
     "output_type": "stream",
     "text": [
      "Enter your birth year1234\n"
     ]
    },
    {
     "ename": "validateyear",
     "evalue": "not eligible for voting",
     "output_type": "error",
     "traceback": [
      "\u001b[1;31m---------------------------------------------------------------------------\u001b[0m",
      "\u001b[1;31mvalidateyear\u001b[0m                              Traceback (most recent call last)",
      "Cell \u001b[1;32mIn[6], line 2\u001b[0m\n\u001b[0;32m      1\u001b[0m age\u001b[38;5;241m=\u001b[39m\u001b[38;5;28mint\u001b[39m(\u001b[38;5;28minput\u001b[39m(\u001b[38;5;124m\"\u001b[39m\u001b[38;5;124mEnter your birth year\u001b[39m\u001b[38;5;124m\"\u001b[39m))\n\u001b[1;32m----> 2\u001b[0m \u001b[43mvy\u001b[49m\u001b[43m(\u001b[49m\u001b[43mage\u001b[49m\u001b[43m)\u001b[49m\n",
      "Cell \u001b[1;32mIn[5], line 3\u001b[0m, in \u001b[0;36mvy\u001b[1;34m(year)\u001b[0m\n\u001b[0;32m      1\u001b[0m \u001b[38;5;28;01mdef\u001b[39;00m \u001b[38;5;21mvy\u001b[39m(year):\n\u001b[0;32m      2\u001b[0m     \u001b[38;5;28;01mif\u001b[39;00m year\u001b[38;5;241m<\u001b[39m\u001b[38;5;241m2003\u001b[39m:\n\u001b[1;32m----> 3\u001b[0m         \u001b[38;5;28;01mraise\u001b[39;00m validateyear(\u001b[38;5;124m\"\u001b[39m\u001b[38;5;124mnot eligible for voting\u001b[39m\u001b[38;5;124m\"\u001b[39m)\n\u001b[0;32m      4\u001b[0m     \u001b[38;5;28;01melse\u001b[39;00m:\n\u001b[0;32m      5\u001b[0m         \u001b[38;5;28mprint\u001b[39m(\u001b[38;5;124m\"\u001b[39m\u001b[38;5;124meligible for voting\u001b[39m\u001b[38;5;124m\"\u001b[39m)\n",
      "\u001b[1;31mvalidateyear\u001b[0m: not eligible for voting"
     ]
    }
   ],
   "source": [
    "age=int(input(\"Enter your birth year\"))\n",
    "vy(age)"
   ]
  },
  {
   "cell_type": "code",
   "execution_count": 8,
   "id": "d6083ce0",
   "metadata": {
    "scrolled": true
   },
   "outputs": [
    {
     "name": "stdout",
     "output_type": "stream",
     "text": [
      "Enter your birth year1234\n",
      "not eligible for voting\n"
     ]
    }
   ],
   "source": [
    "try:\n",
    "    age=int(input(\"Enter your birth year\"))\n",
    "    vy(age)\n",
    "except validateyear as e:\n",
    "    print(e)"
   ]
  },
  {
   "cell_type": "markdown",
   "id": "b6340494",
   "metadata": {},
   "source": [
    "### What are custom exceptions in python why do we need custom exception handling\n",
    "Custom exceptions are user defined exceptions which are defined by user as per their requirement. We need custom exception handling as it provides us more clearity we can raise an error according to our requirements based on our own conditions."
   ]
  },
  {
   "cell_type": "code",
   "execution_count": 9,
   "id": "41298c2e",
   "metadata": {},
   "outputs": [],
   "source": [
    "#example\n",
    "class validateyear(Exception):\n",
    "    def __init__(self,msg):\n",
    "        self.msg=msg\n",
    "def vy(year):\n",
    "    if year<2003:\n",
    "        raise validateyear(\"not eligible for voting\")\n",
    "    else:\n",
    "        print(\"eligible for voting\")"
   ]
  },
  {
   "cell_type": "markdown",
   "id": "2394e7f3",
   "metadata": {},
   "source": [
    "### Create a custom exception class "
   ]
  },
  {
   "cell_type": "code",
   "execution_count": 10,
   "id": "45ac95c4",
   "metadata": {},
   "outputs": [],
   "source": [
    "class validatecolour(Exception):\n",
    "    def __init__(self,msg):\n",
    "        self.msg=msg\n",
    "def vc(col):\n",
    "    if(col not in (\"RED\",\"YELLOW\",\"GREEN\",\"Red\",\"Yellow\",\"Green\",\"red\",\"yellow\",\"green\")):\n",
    "        raise validatecolour(\"invalid house choice\")\n",
    "    else:\n",
    "        print(\"house selected\")"
   ]
  },
  {
   "cell_type": "code",
   "execution_count": 12,
   "id": "579cda01",
   "metadata": {},
   "outputs": [
    {
     "name": "stdout",
     "output_type": "stream",
     "text": [
      "Enter which house you want to joinRed\n",
      "house selected\n"
     ]
    }
   ],
   "source": [
    "try:\n",
    "    house=input(\"Enter which house you want to join\")\n",
    "    vc(house)\n",
    "except validatecolour as v:\n",
    "    print(v.msg)"
   ]
  }
 ],
 "metadata": {
  "kernelspec": {
   "display_name": "Python 3 (ipykernel)",
   "language": "python",
   "name": "python3"
  },
  "language_info": {
   "codemirror_mode": {
    "name": "ipython",
    "version": 3
   },
   "file_extension": ".py",
   "mimetype": "text/x-python",
   "name": "python",
   "nbconvert_exporter": "python",
   "pygments_lexer": "ipython3",
   "version": "3.8.12"
  }
 },
 "nbformat": 4,
 "nbformat_minor": 5
}
