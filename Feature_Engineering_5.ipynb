{
 "cells": [
  {
   "cell_type": "markdown",
   "metadata": {},
   "source": [
    "Q1. What is the difference between Ordinal Encoding and Label Encoding? Provide an example of when you\n",
    "might choose one over the other."
   ]
  },
  {
   "cell_type": "markdown",
   "metadata": {
    "vscode": {
     "languageId": "plaintext"
    }
   },
   "source": [
    "Label encoding and ordinal encoding are both techniques used to convert categorical data into numerical data, but they have some key differences and are used in different scenarios:\n",
    "\n",
    "Label Encoding:\n",
    "\n",
    "1. Assigns a unique integer to each category.\n",
    "2. The integers are assigned arbitrarily, usually in alphabetical order.\n",
    "Best used when:\n",
    "3. There's no inherent order in the categories\n",
    "4. The machine learning algorithm can handle non-ordinal numeric inputs (e.g., tree-based models)\n",
    "There are many categories\n",
    "\n",
    "Example:\n",
    "Colors: Red -> 0, Blue -> 1, Green -> 2\n",
    "\n",
    "Ordinal Encoding:\n",
    "\n",
    "1. Assigns integers to categories based on their relative order or rank.\n",
    "2. The assigned integers reflect a meaningful order in the data.\n",
    "3. Best used when:\n",
    "There's a clear, logical order to the categories\n",
    "You want to preserve the ordinal relationship in the encoded values\n",
    "\n",
    "Example:\n",
    "Education levels: High School -> 0, Bachelor's -> 1, Master's -> 2, PhD -> 3"
   ]
  },
  {
   "cell_type": "markdown",
   "metadata": {
    "vscode": {
     "languageId": "plaintext"
    }
   },
   "source": [
    "Q2. Explain how Target Guided Ordinal Encoding works and provide an example of when you might use it in\n",
    "a machine learning project.\n",
    "\n"
   ]
  },
  {
   "cell_type": "markdown",
   "metadata": {
    "vscode": {
     "languageId": "plaintext"
    }
   },
   "source": [
    "Target Guided Ordinal Encoding is a technique used to encode categorical variables based on their relationship with the target variable in a supervised learning context. \n",
    "\n",
    "How Target Guided Ordinal Encoding works:\n",
    "\n",
    "1. For each category in the categorical feature, calculate the mean (for regression) or proportion (for classification) of the target variable.\n",
    "2. Rank the categories based on these calculated values.\n",
    "3. Assign ordinal numbers to the categories based on this ranking.\n",
    "\n",
    "This method creates an ordering of categories that is informed by their relationship with the target variable, potentially capturing more relevant information than standard ordinal or label encoding.\n",
    "\n",
    "Examples where we can use it:\n",
    "1. High cardinality features: When a categorical variable has many unique values, making one-hot encoding impractical.\n",
    "2. Unknown ordinal relationships: When you suspect there's an ordinal relationship in a categorical variable, but it's not immediately apparent.\n",
    "3. Feature importance: When you want to create a feature that might be more predictive than standard encoding methods.\n",
    "4. Reducing dimensionality: As an alternative to one-hot encoding to keep the number of features lower.\n",
    "5. Time series forecasting: Encoding cyclical features like days of the week or months based on their relationship with the target.\n",
    "6. Customer segmentation: Encoding customer attributes based on their relationship with a key metric like total spend.\n",
    "\n"
   ]
  },
  {
   "cell_type": "markdown",
   "metadata": {
    "vscode": {
     "languageId": "plaintext"
    }
   },
   "source": [
    "Q3. Define covariance and explain why it is important in statistical analysis. How is covariance calculated?\n",
    "\n",
    "Covariance is a statistical measure that indicates the extent to which two random variables change together. If the variables tend to show similar behavior, i.e., when one variable increases, the other tends to increase, and vice versa, the covariance is positive. Conversely, if one variable tends to increase when the other decreases, the covariance is negative.\n",
    "\n",
    "1. Covariance helps in identifying the direction of the relationship between two variables.\n",
    "2.  In finance, covariance is used to understand how different assets move together, which is crucial for diversification and risk management.\n",
    "3. Covariance is a foundational concept in regression analysis, helping to understand the relationship between the independent and dependent variables.\n",
    "4. It provides insights into the correlation and interaction between different data points, facilitating better data analysis and interpretation.\n",
    "\n",
    "Calculation of Covariance\n",
    "1. Find the Mean: Calculate the mean of each variable \n",
    "2. Subtract the mean of X from each X value to get the deviation scores for X. Do the same for Y\n",
    "3. Product of Deviations: Multiply the deviation scores of X and Y for each data point.\n",
    "4. Sum of Products: Sum up all the products obtained in the previous step.\n",
    "5. Average: Divide the sum by n−1 (for a sample) to get the covariance"
   ]
  },
  {
   "cell_type": "markdown",
   "metadata": {
    "vscode": {
     "languageId": "plaintext"
    }
   },
   "source": [
    "Q4. For a dataset with the following categorical variables: Color (red, green, blue), Size (small, medium,\n",
    "large), and Material (wood, metal, plastic), perform label encoding using Python's scikit-learn library.\n",
    "Show your code and explain the output."
   ]
  },
  {
   "cell_type": "code",
   "execution_count": 1,
   "metadata": {},
   "outputs": [
    {
     "data": {
      "text/html": [
       "<div>\n",
       "<style scoped>\n",
       "    .dataframe tbody tr th:only-of-type {\n",
       "        vertical-align: middle;\n",
       "    }\n",
       "\n",
       "    .dataframe tbody tr th {\n",
       "        vertical-align: top;\n",
       "    }\n",
       "\n",
       "    .dataframe thead th {\n",
       "        text-align: right;\n",
       "    }\n",
       "</style>\n",
       "<table border=\"1\" class=\"dataframe\">\n",
       "  <thead>\n",
       "    <tr style=\"text-align: right;\">\n",
       "      <th></th>\n",
       "      <th>ID</th>\n",
       "      <th>Color</th>\n",
       "      <th>Size</th>\n",
       "      <th>Material</th>\n",
       "    </tr>\n",
       "  </thead>\n",
       "  <tbody>\n",
       "    <tr>\n",
       "      <th>0</th>\n",
       "      <td>1</td>\n",
       "      <td>Red</td>\n",
       "      <td>Small</td>\n",
       "      <td>Wood</td>\n",
       "    </tr>\n",
       "    <tr>\n",
       "      <th>1</th>\n",
       "      <td>2</td>\n",
       "      <td>Green</td>\n",
       "      <td>Medium</td>\n",
       "      <td>Metal</td>\n",
       "    </tr>\n",
       "    <tr>\n",
       "      <th>2</th>\n",
       "      <td>3</td>\n",
       "      <td>Blue</td>\n",
       "      <td>Large</td>\n",
       "      <td>Plastic</td>\n",
       "    </tr>\n",
       "    <tr>\n",
       "      <th>3</th>\n",
       "      <td>4</td>\n",
       "      <td>Red</td>\n",
       "      <td>Medium</td>\n",
       "      <td>Plastic</td>\n",
       "    </tr>\n",
       "    <tr>\n",
       "      <th>4</th>\n",
       "      <td>5</td>\n",
       "      <td>Green</td>\n",
       "      <td>Small</td>\n",
       "      <td>Metal</td>\n",
       "    </tr>\n",
       "  </tbody>\n",
       "</table>\n",
       "</div>"
      ],
      "text/plain": [
       "   ID  Color    Size Material\n",
       "0   1    Red   Small     Wood\n",
       "1   2  Green  Medium    Metal\n",
       "2   3   Blue   Large  Plastic\n",
       "3   4    Red  Medium  Plastic\n",
       "4   5  Green   Small    Metal"
      ]
     },
     "execution_count": 1,
     "metadata": {},
     "output_type": "execute_result"
    }
   ],
   "source": [
    "import pandas as pd\n",
    "\n",
    "data = {\n",
    "    'ID': [1, 2, 3, 4, 5, 6, 7, 8, 9, 10, 11, 12, 13, 14, 15],\n",
    "    'Color': ['Red', 'Green', 'Blue', 'Red', 'Green', 'Blue', 'Red', 'Green', 'Blue', 'Red', 'Green', 'Blue', 'Red', 'Green', 'Blue'],\n",
    "    'Size': ['Small', 'Medium', 'Large', 'Medium', 'Small', 'Medium', 'Large', 'Large', 'Small', 'Small', 'Medium', 'Large', 'Large', 'Small', 'Medium'],\n",
    "    'Material': ['Wood', 'Metal', 'Plastic', 'Plastic', 'Metal', 'Wood', 'Metal', 'Wood', 'Plastic', 'Metal', 'Wood', 'Metal', 'Plastic', 'Wood', 'Metal']\n",
    "}\n",
    "\n",
    "df = pd.DataFrame(data)\n",
    "df.head()\n"
   ]
  },
  {
   "cell_type": "code",
   "execution_count": 15,
   "metadata": {},
   "outputs": [
    {
     "data": {
      "text/html": [
       "<div>\n",
       "<style scoped>\n",
       "    .dataframe tbody tr th:only-of-type {\n",
       "        vertical-align: middle;\n",
       "    }\n",
       "\n",
       "    .dataframe tbody tr th {\n",
       "        vertical-align: top;\n",
       "    }\n",
       "\n",
       "    .dataframe thead th {\n",
       "        text-align: right;\n",
       "    }\n",
       "</style>\n",
       "<table border=\"1\" class=\"dataframe\">\n",
       "  <thead>\n",
       "    <tr style=\"text-align: right;\">\n",
       "      <th></th>\n",
       "      <th>ID</th>\n",
       "      <th>Color</th>\n",
       "      <th>Size</th>\n",
       "      <th>Material</th>\n",
       "      <th>encoded_colors</th>\n",
       "      <th>encoded_Materials</th>\n",
       "      <th>encoded_Size</th>\n",
       "    </tr>\n",
       "  </thead>\n",
       "  <tbody>\n",
       "    <tr>\n",
       "      <th>0</th>\n",
       "      <td>1</td>\n",
       "      <td>Red</td>\n",
       "      <td>Small</td>\n",
       "      <td>Wood</td>\n",
       "      <td>2</td>\n",
       "      <td>2</td>\n",
       "      <td>0.0</td>\n",
       "    </tr>\n",
       "    <tr>\n",
       "      <th>1</th>\n",
       "      <td>2</td>\n",
       "      <td>Green</td>\n",
       "      <td>Medium</td>\n",
       "      <td>Metal</td>\n",
       "      <td>1</td>\n",
       "      <td>0</td>\n",
       "      <td>1.0</td>\n",
       "    </tr>\n",
       "    <tr>\n",
       "      <th>2</th>\n",
       "      <td>3</td>\n",
       "      <td>Blue</td>\n",
       "      <td>Large</td>\n",
       "      <td>Plastic</td>\n",
       "      <td>0</td>\n",
       "      <td>1</td>\n",
       "      <td>2.0</td>\n",
       "    </tr>\n",
       "    <tr>\n",
       "      <th>3</th>\n",
       "      <td>4</td>\n",
       "      <td>Red</td>\n",
       "      <td>Medium</td>\n",
       "      <td>Plastic</td>\n",
       "      <td>2</td>\n",
       "      <td>1</td>\n",
       "      <td>1.0</td>\n",
       "    </tr>\n",
       "    <tr>\n",
       "      <th>4</th>\n",
       "      <td>5</td>\n",
       "      <td>Green</td>\n",
       "      <td>Small</td>\n",
       "      <td>Metal</td>\n",
       "      <td>1</td>\n",
       "      <td>0</td>\n",
       "      <td>0.0</td>\n",
       "    </tr>\n",
       "  </tbody>\n",
       "</table>\n",
       "</div>"
      ],
      "text/plain": [
       "   ID  Color    Size Material  encoded_colors  encoded_Materials  encoded_Size\n",
       "0   1    Red   Small     Wood               2                  2           0.0\n",
       "1   2  Green  Medium    Metal               1                  0           1.0\n",
       "2   3   Blue   Large  Plastic               0                  1           2.0\n",
       "3   4    Red  Medium  Plastic               2                  1           1.0\n",
       "4   5  Green   Small    Metal               1                  0           0.0"
      ]
     },
     "execution_count": 15,
     "metadata": {},
     "output_type": "execute_result"
    }
   ],
   "source": [
    "from sklearn.preprocessing import LabelEncoder, OrdinalEncoder\n",
    "L_encoder= LabelEncoder()\n",
    "O_encoder= OrdinalEncoder(categories=[['Small','Medium','Large']])\n",
    "a=pd.DataFrame(L_encoder.fit_transform(df['Color']),columns=['encoded_colors'])\n",
    "b=pd.DataFrame(L_encoder.fit_transform(df['Material']),columns=['encoded_Materials'])\n",
    "c=pd.DataFrame(O_encoder.fit_transform(df[['Size']]),columns=['encoded_Size'])\n",
    "new_df=pd.concat([df,a,b,c],axis=1)\n",
    "\n",
    "new_df.head()"
   ]
  },
  {
   "cell_type": "markdown",
   "metadata": {
    "vscode": {
     "languageId": "plaintext"
    }
   },
   "source": [
    "Q5. Calculate the covariance matrix for the following variables in a dataset: Age, Income, and Education\n",
    "level. Interpret the results."
   ]
  },
  {
   "cell_type": "code",
   "execution_count": 63,
   "metadata": {},
   "outputs": [
    {
     "data": {
      "text/plain": [
       "array([[6.25e+01, 1.25e+05, 1.25e+00],\n",
       "       [1.25e+05, 2.50e+08, 2.50e+03],\n",
       "       [1.25e+00, 2.50e+03, 7.00e-01]])"
      ]
     },
     "execution_count": 63,
     "metadata": {},
     "output_type": "execute_result"
    }
   ],
   "source": [
    "import numpy as np\n",
    "from sklearn.preprocessing import OrdinalEncoder\n",
    "data = {\n",
    "    'Age': [25, 30, 35, 40, 45],\n",
    "    'Income': [50000, 60000, 70000, 80000, 90000],\n",
    "    'Education Level': ['Bachelor', 'Master', 'PhD', 'Bachelor', 'Master']\n",
    "}\n",
    "\n",
    "# Create DataFrame\n",
    "df = pd.DataFrame(data)\n",
    "\n",
    "encoder=OrdinalEncoder(categories=[['Bachelor', 'Master', 'PhD']])\n",
    "df['encoded']=encoder.fit_transform(df[['Education Level']])\n",
    "cov_matrix=np.cov(df[['Age','Income','encoded']].T)\n",
    "cov_matrix"
   ]
  },
  {
   "cell_type": "markdown",
   "metadata": {
    "vscode": {
     "languageId": "plaintext"
    }
   },
   "source": [
    "Q6. You are working on a machine learning project with a dataset containing several categorical\n",
    "variables, including \"Gender\" (Male/Female), \"Education Level\" (High School/Bachelor's/Master's/PhD),\n",
    "and \"Employment Status\" (Unemployed/Part-Time/Full-Time). Which encoding method would you use for\n",
    "each variable, and why?"
   ]
  },
  {
   "cell_type": "markdown",
   "metadata": {},
   "source": [
    "1. For gender I will be using labelencoding because it is used for binary categorical features. \n",
    "2. For Educational Level I will be using Ordinal encoding so that we can give the order to category and their meaning is preserved.\n",
    "3. For Employment Status I will be using OHE as the categories are less and as they are not having any specific meaning or order."
   ]
  },
  {
   "cell_type": "markdown",
   "metadata": {
    "vscode": {
     "languageId": "plaintext"
    }
   },
   "source": [
    "Q7. You are analyzing a dataset with two continuous variables, \"Temperature\" and \"Humidity\", and two\n",
    "categorical variables, \"Weather Condition\" (Sunny/Cloudy/Rainy) and \"Wind Direction\" (North/South/\n",
    "East/West). Calculate the covariance between each pair of variables and interpret the results."
   ]
  },
  {
   "cell_type": "code",
   "execution_count": 56,
   "metadata": {},
   "outputs": [],
   "source": [
    "import pandas as pd\n",
    "import numpy as np\n",
    "\n",
    "\n",
    "np.random.seed(42)\n",
    "n=20\n",
    "temperature=np.random.uniform(15,35,n)\n",
    "humidity=np.random.uniform(40,90,n)\n",
    "weather_conditions=np.random.choice(['Sunny','Cloudy','Rainy'],n)\n",
    "wind_directions=np.random.choice(['North','South','East','West'],n)\n",
    "\n",
    "data={\n",
    "    'Temperature':temperature,\n",
    "    'Humidity': humidity,\n",
    "    'Weather Condition': weather_conditions,\n",
    "    'Wind Direction': wind_directions\n",
    "}\n",
    "df= pd.DataFrame(data)\n"
   ]
  },
  {
   "cell_type": "code",
   "execution_count": 57,
   "metadata": {},
   "outputs": [
    {
     "name": "stdout",
     "output_type": "stream",
     "text": [
      "    Temperature   Humidity  Weather Condition_Cloudy  Weather Condition_Rainy  \\\n",
      "0     22.490802  70.592645                       0.0                      1.0   \n",
      "1     34.014286  46.974693                       0.0                      0.0   \n",
      "2     29.639879  54.607232                       0.0                      1.0   \n",
      "3     26.973170  58.318092                       0.0                      1.0   \n",
      "4     18.120373  62.803499                       1.0                      0.0   \n",
      "5     18.119890  79.258798                       0.0                      0.0   \n",
      "6     16.161672  49.983689                       1.0                      0.0   \n",
      "7     32.323523  65.711722                       1.0                      0.0   \n",
      "8     27.022300  69.620728                       1.0                      0.0   \n",
      "9     29.161452  42.322521                       1.0                      0.0   \n",
      "10    15.411690  70.377243                       1.0                      0.0   \n",
      "11    34.398197  48.526206                       1.0                      0.0   \n",
      "12    31.648853  43.252580                       1.0                      0.0   \n",
      "13    19.246782  87.444277                       0.0                      0.0   \n",
      "14    18.636499  88.281602                       0.0                      1.0   \n",
      "15    18.668090  80.419867                       1.0                      0.0   \n",
      "16    21.084845  55.230688                       1.0                      0.0   \n",
      "17    25.495129  44.883606                       1.0                      0.0   \n",
      "18    23.638900  74.211651                       1.0                      0.0   \n",
      "19    20.824583  62.007625                       1.0                      0.0   \n",
      "\n",
      "    Weather Condition_Sunny  final_encoded  \n",
      "0                       0.0      94.266063  \n",
      "1                       1.0      82.968688  \n",
      "2                       0.0      84.880440  \n",
      "3                       0.0      94.266063  \n",
      "4                       0.0      84.880440  \n",
      "5                       1.0      94.266063  \n",
      "6                       0.0      82.968688  \n",
      "7                       0.0      84.880440  \n",
      "8                       0.0      94.266063  \n",
      "9                       0.0      80.920560  \n",
      "10                      0.0      82.968688  \n",
      "11                      0.0      94.266063  \n",
      "12                      0.0      80.920560  \n",
      "13                      1.0      94.266063  \n",
      "14                      0.0      80.920560  \n",
      "15                      0.0      82.968688  \n",
      "16                      0.0      84.880440  \n",
      "17                      0.0      80.920560  \n",
      "18                      0.0      94.266063  \n",
      "19                      0.0      82.968688  \n"
     ]
    }
   ],
   "source": [
    "from sklearn.preprocessing import OneHotEncoder\n",
    "encoder=OneHotEncoder()\n",
    "encoded=encoder.fit_transform(df[['Weather Condition']])\n",
    "encoded_df=pd.DataFrame(encoded.toarray(),columns=encoder.get_feature_names_out())\n",
    "df=pd.concat([df,encoded_df],axis=1)\n",
    "\n",
    "\n",
    "mean_temp =df.groupby('Wind Direction')['Temperature'].mean().to_dict()\n",
    "mean_hummidity =df.groupby('Wind Direction')['Humidity'].mean().to_dict()\n",
    "df['encoded1']=df['Wind Direction'].map(mean_hummidity)\n",
    "df['encoded2']=df['Wind Direction'].map(mean_temp)\n",
    "df['final_encoded']=df['encoded1']+df['encoded2']\n",
    "df.drop(['encoded1','encoded2','Weather Condition','Wind Direction'],axis=1,inplace=True)\n",
    "print(df)"
   ]
  },
  {
   "cell_type": "code",
   "execution_count": 61,
   "metadata": {},
   "outputs": [],
   "source": [
    "#For covariance Matrix\n",
    "cov_matrix=np.cov(df[['Humidity','Temperature','Weather Condition_Cloudy','Weather Condition_Sunny','Weather Condition_Rainy','final_encoded']].T)"
   ]
  },
  {
   "cell_type": "code",
   "execution_count": 62,
   "metadata": {},
   "outputs": [
    {
     "data": {
      "text/plain": [
       "array([[ 2.11963073e+02, -5.28354175e+01, -2.43616850e+00,\n",
       "         1.33965386e+00,  1.09651464e+00,  3.12105862e+01],\n",
       "       [-5.28354175e+01,  3.78684834e+01, -2.26255863e-03,\n",
       "        -5.69041345e-02,  5.91666931e-02,  1.23242177e+00],\n",
       "       [-2.43616850e+00, -2.26255863e-03,  2.39473684e-01,\n",
       "        -1.02631579e-01, -1.36842105e-01, -9.24499032e-01],\n",
       "       [ 1.33965386e+00, -5.69041345e-02, -1.02631579e-01,\n",
       "         1.34210526e-01, -3.15789474e-02,  5.69175338e-01],\n",
       "       [ 1.09651464e+00,  5.91666931e-02, -1.36842105e-01,\n",
       "        -3.15789474e-02,  1.68421053e-01,  3.55323694e-01],\n",
       "       [ 3.12105862e+01,  1.23242177e+00, -9.24499032e-01,\n",
       "         5.69175338e-01,  3.55323694e-01,  3.24430079e+01]])"
      ]
     },
     "execution_count": 62,
     "metadata": {},
     "output_type": "execute_result"
    }
   ],
   "source": [
    "cov_matrix"
   ]
  }
 ],
 "metadata": {
  "kernelspec": {
   "display_name": "Python 3",
   "language": "python",
   "name": "python3"
  },
  "language_info": {
   "codemirror_mode": {
    "name": "ipython",
    "version": 3
   },
   "file_extension": ".py",
   "mimetype": "text/x-python",
   "name": "python",
   "nbconvert_exporter": "python",
   "pygments_lexer": "ipython3",
   "version": "3.12.1"
  }
 },
 "nbformat": 4,
 "nbformat_minor": 2
}
