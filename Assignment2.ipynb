{
 "cells": [
  {
   "cell_type": "markdown",
   "id": "ab8ab7e1",
   "metadata": {},
   "source": [
    "How do you comment code in Python? What are the different types of comments?"
   ]
  },
  {
   "cell_type": "code",
   "execution_count": 19,
   "id": "1e8c3886",
   "metadata": {},
   "outputs": [
    {
     "name": "stdout",
     "output_type": "stream",
     "text": [
      "hello\n",
      " This function is for printing sum\n"
     ]
    }
   ],
   "source": [
    "#This is my comment\n",
    "\n",
    "\"\"\" This is my \n",
    "multiline comment\"\"\"\n",
    "print(\"hello\")\n",
    "\n",
    "def addd(a,b):\n",
    "    \"\"\" This function is for printing sum\"\"\"\n",
    "    print(a+b)\n",
    "print(addd.__doc__)\n",
    "\n"
   ]
  },
  {
   "cell_type": "markdown",
   "id": "73a3e4a0",
   "metadata": {},
   "source": [
    "Q2. What are variables in Python? How do you declare and assign values to variables?"
   ]
  },
  {
   "cell_type": "code",
   "execution_count": null,
   "id": "bf79ead1",
   "metadata": {},
   "outputs": [],
   "source": [
    "a=10"
   ]
  },
  {
   "cell_type": "markdown",
   "id": "75dc9165",
   "metadata": {},
   "source": [
    "Q3. How do you convert one data type to another in Python?"
   ]
  },
  {
   "cell_type": "code",
   "execution_count": 20,
   "id": "5ed32b16",
   "metadata": {},
   "outputs": [
    {
     "name": "stdout",
     "output_type": "stream",
     "text": [
      "12\n"
     ]
    }
   ],
   "source": [
    "k=12.34\n",
    "y=int(k)\n",
    "print(y)"
   ]
  },
  {
   "cell_type": "markdown",
   "id": "4825ddbc",
   "metadata": {},
   "source": [
    "Q4. How do you write and execute a Python script from the command line?"
   ]
  },
  {
   "cell_type": "code",
   "execution_count": 34,
   "id": "8749343a",
   "metadata": {},
   "outputs": [],
   "source": [
    "#Ans we will write python and provide path"
   ]
  },
  {
   "cell_type": "markdown",
   "id": "a378ac8c",
   "metadata": {},
   "source": [
    "Q5. Given a list my_list = [1, 2, 3, 4, 5], write the code to slice the list and obtain the sub-list [2, 3]."
   ]
  },
  {
   "cell_type": "code",
   "execution_count": 21,
   "id": "070f5925",
   "metadata": {},
   "outputs": [
    {
     "data": {
      "text/plain": [
       "[2, 3]"
      ]
     },
     "execution_count": 21,
     "metadata": {},
     "output_type": "execute_result"
    }
   ],
   "source": [
    "my_list=[1,2,3,4,5]\n",
    "my_list[1:3]"
   ]
  },
  {
   "cell_type": "markdown",
   "id": "fc3a0572",
   "metadata": {},
   "source": [
    "Q6. What is a complex number in mathematics, and how is it represented in Python?\n",
    "Ans complex no. has one real part and one imaginary part, it can be represented as a+ib."
   ]
  },
  {
   "cell_type": "code",
   "execution_count": 25,
   "id": "4380c17c",
   "metadata": {},
   "outputs": [
    {
     "data": {
      "text/plain": [
       "complex"
      ]
     },
     "execution_count": 25,
     "metadata": {},
     "output_type": "execute_result"
    }
   ],
   "source": [
    "k=10+5j\n",
    "type(k)"
   ]
  },
  {
   "cell_type": "markdown",
   "id": "b083e03f",
   "metadata": {},
   "source": [
    "Q7. What is the correct way to declare a variable named age and assign the value 25 to it?"
   ]
  },
  {
   "cell_type": "code",
   "execution_count": 26,
   "id": "a188d3b3",
   "metadata": {},
   "outputs": [],
   "source": [
    "age=25"
   ]
  },
  {
   "cell_type": "markdown",
   "id": "4b0a958f",
   "metadata": {},
   "source": [
    "Q8. Declare a variable named price and assign the value 9.99 to it. What data type does this variable\n",
    "belong to?"
   ]
  },
  {
   "cell_type": "code",
   "execution_count": 27,
   "id": "b1b0b3f9",
   "metadata": {},
   "outputs": [
    {
     "data": {
      "text/plain": [
       "float"
      ]
     },
     "execution_count": 27,
     "metadata": {},
     "output_type": "execute_result"
    }
   ],
   "source": [
    "price=9.99\n",
    "#float\n",
    "#to verify \n",
    "type(price)"
   ]
  },
  {
   "cell_type": "markdown",
   "id": "aaf304ee",
   "metadata": {},
   "source": [
    "Q9. Create a variable named name and assign your full name to it as a string. How would you print the\n",
    "value of this variable?"
   ]
  },
  {
   "cell_type": "code",
   "execution_count": 28,
   "id": "0cae679c",
   "metadata": {},
   "outputs": [
    {
     "name": "stdout",
     "output_type": "stream",
     "text": [
      "Trisha Rajkumar Roy\n"
     ]
    }
   ],
   "source": [
    "name=\"Trisha Rajkumar Roy\"\n",
    "print(name)"
   ]
  },
  {
   "cell_type": "markdown",
   "id": "0fb260e1",
   "metadata": {},
   "source": [
    "Q10. Given the string \"Hello, World!\", extract the substring \"World\"."
   ]
  },
  {
   "cell_type": "code",
   "execution_count": 32,
   "id": "b7f28cdb",
   "metadata": {},
   "outputs": [
    {
     "name": "stdout",
     "output_type": "stream",
     "text": [
      "World\n"
     ]
    }
   ],
   "source": [
    "p=\"Hello,World!\"\n",
    "print(p[6:11])"
   ]
  },
  {
   "cell_type": "markdown",
   "id": "07667f60",
   "metadata": {},
   "source": [
    "Q11. Create a variable named \"is_student\" and assign it a boolean value indicating whether you are\n",
    "currently a student or not."
   ]
  },
  {
   "cell_type": "code",
   "execution_count": 33,
   "id": "2cf785cd",
   "metadata": {},
   "outputs": [],
   "source": [
    "is_student=True"
   ]
  }
 ],
 "metadata": {
  "kernelspec": {
   "display_name": "Python 3 (ipykernel)",
   "language": "python",
   "name": "python3"
  },
  "language_info": {
   "codemirror_mode": {
    "name": "ipython",
    "version": 3
   },
   "file_extension": ".py",
   "mimetype": "text/x-python",
   "name": "python",
   "nbconvert_exporter": "python",
   "pygments_lexer": "ipython3",
   "version": "3.8.12"
  }
 },
 "nbformat": 4,
 "nbformat_minor": 5
}
