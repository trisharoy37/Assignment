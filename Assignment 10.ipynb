{
 "cells": [
  {
   "cell_type": "markdown",
   "id": "b9a5e9a0",
   "metadata": {},
   "source": [
    "### What is multithreading in python? Why it is used? Name the module used to handle threads in python\n",
    "Multithreading in Python refers to the concurrent execution of multiple threads within a single process. A thread is the smallest unit of execution within a program, and multithreading allows you to execute multiple threads concurrently, enabling better utilization of the available CPU resources.\n",
    "\n",
    "Threads are used to achieve parallelism by dividing a program into smaller tasks that can be executed independently.\n",
    "\n",
    "Module that we used to handle thread is threading."
   ]
  },
  {
   "cell_type": "markdown",
   "id": "25d038ca",
   "metadata": {},
   "source": [
    "### Why threading module used? Write the use of the following functions.\n",
    "The threading module in Python is used to work with threads. The threading module provides a high-level interface to create, manage, and work with threads in multithreaded program."
   ]
  },
  {
   "cell_type": "markdown",
   "id": "74767ffb",
   "metadata": {},
   "source": [
    "### activeCount()\n",
    "This function returns the number of Thread objects currently alive.\n",
    "\n",
    "It's not always an accurate measure of the number of threads actively executing, especially if threads are created and terminated frequently."
   ]
  },
  {
   "cell_type": "markdown",
   "id": "29f0336c",
   "metadata": {},
   "source": [
    "### currentThread()\n",
    "This function returns the current Thread object, representing the thread from which the function is called"
   ]
  },
  {
   "cell_type": "code",
   "execution_count": 18,
   "id": "f9fd3359",
   "metadata": {},
   "outputs": [
    {
     "name": "stdout",
     "output_type": "stream",
     "text": [
      "Current thread name:Current thread name: Thread-881\n",
      "Thread started\n",
      " Thread-880\n",
      "Thread started\n",
      "Current thread name: Thread-882\n",
      "Thread started\n",
      "Current thread name: Thread-883\n",
      "Thread started\n",
      "Current thread name: Thread-884\n",
      "Thread started\n",
      "Active threads: 6\n"
     ]
    }
   ],
   "source": [
    "import threading\n",
    "def worker():\n",
    "    current=threading.currentThread()\n",
    "    print(\"Current thread name:\",current.name)\n",
    "    print(\"Thread started\")\n",
    "threads=[]\n",
    "for _ in range(5):\n",
    "    thread=threading.Thread(target=worker)\n",
    "    threads.append(thread)\n",
    "    thread.start()\n",
    "print(\"Active threads:\",threading.activeCount())"
   ]
  },
  {
   "cell_type": "markdown",
   "id": "57f6d971",
   "metadata": {},
   "source": [
    "### enumerate()\n",
    "This function returns a list of all currently alive Thread objects."
   ]
  },
  {
   "cell_type": "code",
   "execution_count": 20,
   "id": "033f1d1b",
   "metadata": {
    "scrolled": true
   },
   "outputs": [
    {
     "name": "stdout",
     "output_type": "stream",
     "text": [
      "Thread started\n",
      "Thread started\n",
      "Thread started\n",
      "Thread name: MainThread\n",
      "Thread name: IOPub\n",
      "Thread name: Heartbeat\n",
      "Thread name: Control\n",
      "Thread name: IPythonHistorySavingThread\n",
      "Thread name: Thread-4\n"
     ]
    }
   ],
   "source": [
    "import threading\n",
    "\n",
    "def worker():\n",
    "    print(\"Thread started\")\n",
    "\n",
    "threads = []\n",
    "for _ in range(3):\n",
    "    thread = threading.Thread(target=worker)\n",
    "    threads.append(thread)\n",
    "    thread.start()\n",
    "for thread in threading.enumerate():\n",
    "    print(f\"Thread name: {thread.name}\")\n",
    "#we can use different method to access detail of thread object ex\n",
    "#thread.ident\n",
    "#thread.name\n",
    "#thread.daemon\n",
    "#thread.is_alive()"
   ]
  },
  {
   "cell_type": "markdown",
   "id": "5aa6aa24",
   "metadata": {},
   "source": [
    "### Explain the following functions:\n",
    "1. run():\n",
    "\n",
    "run() is a method that represents the entry point for the thread's execution. It's the function that gets executed when the thread is started.\n",
    "\n",
    "2. start():\n",
    "\n",
    "start() is a method provided by the Thread class that initiates the execution of the thread. When you call start() the thread's run() method is invoked in a new thread of execution.\n",
    "\n",
    "3. join():\n",
    "\n",
    "join() is a method provided by the Thread class that blocks the calling thread until the target thread completes its execution. The optional timeout parameter specifies the max time the calling thread will wait for the target thread to finish\n",
    "\n",
    "4. isAlive():\n",
    "\n",
    "isAlive() is a method provided by the Thread class that returns True if the thread is currently executing and False otherwise"
   ]
  },
  {
   "cell_type": "code",
   "execution_count": null,
   "id": "ef33daed",
   "metadata": {},
   "outputs": [],
   "source": []
  },
  {
   "cell_type": "markdown",
   "id": "241b0d1a",
   "metadata": {},
   "source": [
    "### Write a python program to create two threads. Thread one must print the list of squares and thread two must print the list of cubes. "
   ]
  },
  {
   "cell_type": "code",
   "execution_count": 24,
   "id": "532117e1",
   "metadata": {
    "scrolled": true
   },
   "outputs": [
    {
     "name": "stdout",
     "output_type": "stream",
     "text": [
      "0\n",
      "1\n",
      "4\n",
      "9\n",
      "16\n",
      "25\n",
      "36\n",
      "49\n",
      "64\n",
      "81\n",
      "0\n",
      "1\n",
      "8\n",
      "27\n",
      "64\n",
      "125\n",
      "216\n",
      "343\n",
      "512\n",
      "729\n",
      "Thread name: MainThread\n",
      "Thread name: IOPub\n",
      "Thread name: Heartbeat\n",
      "Thread name: Control\n",
      "Thread name: IPythonHistorySavingThread\n",
      "Thread name: Thread-4\n"
     ]
    }
   ],
   "source": [
    "def sq(a):\n",
    "    print(a**2)\n",
    "def cb(b):\n",
    "    print(b*b*b)\n",
    "thread1=[threading.Thread(target=sq,args=(i,)) for i in range(10)]\n",
    "thread2=[threading.Thread(target=cb,args=(i,)) for i in range(10)]\n",
    "for x in thread1:\n",
    "    x.start()\n",
    "    x.join()\n",
    "for p in thread2:\n",
    "    p.start()\n",
    "    p.join()\n",
    "for th in threading.enumerate():\n",
    "    print(f\"Thread name: {th.name}\")"
   ]
  },
  {
   "cell_type": "markdown",
   "id": "b300a333",
   "metadata": {},
   "source": [
    "### State advantages and disadvantages of multithreading.\n",
    "Advantages of Multithreading are:\n",
    "1. Parallelism\n",
    "2. Responsiveness\n",
    "3. Resource Sharing\n",
    "4. Efficient Resource Utilization\n",
    "5. Modular Design\n",
    "6. Simplified Coding\n",
    "\n",
    "Disadvatage of Multithreading are:\n",
    "1. Complexity\n",
    "2. Race Conditions:\n",
    "3. Synchronization Overhead\n",
    "4. Resource Competition\n",
    "5. Debugging Complexity\n",
    "6. Platform Dependency\n",
    "7. GIL Limitations"
   ]
  },
  {
   "cell_type": "markdown",
   "id": "004edc71",
   "metadata": {},
   "source": [
    "### Explain deadlocks and race conditions.\n",
    "A deadlocks occurs when two or more threads or processes are unable to proceed because each is waiting for a resource held by the other. This creates a circular waiting scenario where none of the threads can make progress.\n",
    "\n",
    "A race condition occurs when two or more threads or process attempt to modify shared data concurrently, leading to unpredictable or unintended behaviour. The result of race condition depends on the exact order of execution of the threads, and it can vary from run to run. Race conditions often occur when multiple threads access shared data without proper synchronization mechanisms, such as locks or semaphores. "
   ]
  },
  {
   "cell_type": "code",
   "execution_count": null,
   "id": "d7bafa77",
   "metadata": {},
   "outputs": [],
   "source": []
  }
 ],
 "metadata": {
  "kernelspec": {
   "display_name": "Python 3 (ipykernel)",
   "language": "python",
   "name": "python3"
  },
  "language_info": {
   "codemirror_mode": {
    "name": "ipython",
    "version": 3
   },
   "file_extension": ".py",
   "mimetype": "text/x-python",
   "name": "python",
   "nbconvert_exporter": "python",
   "pygments_lexer": "ipython3",
   "version": "3.8.12"
  }
 },
 "nbformat": 4,
 "nbformat_minor": 5
}
