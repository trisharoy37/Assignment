{
 "cells": [
  {
   "cell_type": "code",
   "execution_count": 16,
   "id": "53afa958",
   "metadata": {},
   "outputs": [],
   "source": [
    "class vehicle:\n",
    "    def __init__(self,nm,mx,av):\n",
    "        self.name_of_vehicle=nm\n",
    "        self.max_speed=mx\n",
    "        self.average_of_vehicle=av"
   ]
  },
  {
   "cell_type": "code",
   "execution_count": 6,
   "id": "dc12fb26",
   "metadata": {
    "scrolled": true
   },
   "outputs": [
    {
     "name": "stdout",
     "output_type": "stream",
     "text": [
      "car\n",
      "100\n",
      "89\n"
     ]
    }
   ],
   "source": [
    "obj=vehicle(\"car\",100,89)\n",
    "print(obj.name_of_vehicle)\n",
    "print(obj.max_speed)\n",
    "print(obj.average_of_vehicle)"
   ]
  },
  {
   "cell_type": "code",
   "execution_count": 17,
   "id": "67a1625e",
   "metadata": {},
   "outputs": [],
   "source": [
    "class child(vehicle):\n",
    "    def seating_capacity(self,sc):\n",
    "        self.sc=sc\n",
    "        return self.name_of_vehicle,self.sc"
   ]
  },
  {
   "cell_type": "code",
   "execution_count": 19,
   "id": "0f0d00aa",
   "metadata": {},
   "outputs": [
    {
     "data": {
      "text/plain": [
       "('Brezza', 6)"
      ]
     },
     "execution_count": 19,
     "metadata": {},
     "output_type": "execute_result"
    }
   ],
   "source": [
    "obj1=child(\"Brezza\",234,34)\n",
    "obj1.seating_capacity(6)"
   ]
  },
  {
   "cell_type": "markdown",
   "id": "2058c5c5",
   "metadata": {},
   "source": [
    "Multiple inheritance is a kind of inheritance where we derive characteristics from more than one parent class to a single child class "
   ]
  },
  {
   "cell_type": "code",
   "execution_count": 29,
   "id": "a931726d",
   "metadata": {
    "scrolled": true
   },
   "outputs": [
    {
     "name": "stdout",
     "output_type": "stream",
     "text": [
      "this is method 2\n",
      "this is method 3\n"
     ]
    }
   ],
   "source": [
    "class a:\n",
    "    def meth1(self):\n",
    "        print(\"this is method 1\")\n",
    "class b:\n",
    "    def meth2(self):\n",
    "        print(\"this is method 2\")\n",
    "class c(a, b):\n",
    "    def meth3(self):\n",
    "        print(\"this is method 3\")\n",
    "obj=c()\n",
    "obj.meth2()\n",
    "obj.meth3()"
   ]
  },
  {
   "cell_type": "code",
   "execution_count": 33,
   "id": "b2ec52c7",
   "metadata": {},
   "outputs": [
    {
     "data": {
      "text/plain": [
       "'Chocolate'"
      ]
     },
     "execution_count": 33,
     "metadata": {},
     "output_type": "execute_result"
    }
   ],
   "source": [
    "class Icecream:\n",
    "    def __init__(self,flavour):\n",
    "        self.__flavour=flavour\n",
    "    def Set_flavour(self,flavour):\n",
    "        self.__flavour=flavour\n",
    "    def Get_flavour(self):\n",
    "        return self.__flavour\n",
    "obj1=Icecream(\"Chocolate\")\n",
    "obj1.Get_flavour()"
   ]
  },
  {
   "cell_type": "code",
   "execution_count": 34,
   "id": "b37d2dd1",
   "metadata": {},
   "outputs": [
    {
     "data": {
      "text/plain": [
       "'Vanilla'"
      ]
     },
     "execution_count": 34,
     "metadata": {},
     "output_type": "execute_result"
    }
   ],
   "source": [
    "obj1.Set_flavour(\"Vanilla\")\n",
    "obj1.Get_flavour()"
   ]
  },
  {
   "cell_type": "code",
   "execution_count": 35,
   "id": "bf432d68",
   "metadata": {},
   "outputs": [
    {
     "data": {
      "text/plain": [
       "'this is class b'"
      ]
     },
     "execution_count": 35,
     "metadata": {},
     "output_type": "execute_result"
    }
   ],
   "source": [
    "import abc\n",
    "class A:\n",
    "    @abc.abstractmethod\n",
    "    def check(self):\n",
    "        pass\n",
    "class B(A):\n",
    "    def check(self):\n",
    "        return \"this is class b\"\n",
    "class C(A):\n",
    "    def check(self):\n",
    "        return \"this is class c\"\n",
    "class D(B,C):\n",
    "    pass\n",
    "obj= D()\n",
    "obj.check()"
   ]
  }
 ],
 "metadata": {
  "kernelspec": {
   "display_name": "Python 3 (ipykernel)",
   "language": "python",
   "name": "python3"
  },
  "language_info": {
   "codemirror_mode": {
    "name": "ipython",
    "version": 3
   },
   "file_extension": ".py",
   "mimetype": "text/x-python",
   "name": "python",
   "nbconvert_exporter": "python",
   "pygments_lexer": "ipython3",
   "version": "3.8.12"
  }
 },
 "nbformat": 4,
 "nbformat_minor": 5
}
