{
 "cells": [
  {
   "cell_type": "markdown",
   "id": "a132ee9c",
   "metadata": {},
   "source": [
    "### Q1. Create a Pandas Series that contains the following data: 4, 8, 15, 16, 23, and 42. Then, print the series."
   ]
  },
  {
   "cell_type": "code",
   "execution_count": 1,
   "id": "5add80ff",
   "metadata": {},
   "outputs": [],
   "source": [
    "import pandas as pd"
   ]
  },
  {
   "cell_type": "code",
   "execution_count": 5,
   "id": "2b13cd05",
   "metadata": {},
   "outputs": [],
   "source": [
    "s=pd.Series([4,8,15,16,23,42])"
   ]
  },
  {
   "cell_type": "code",
   "execution_count": 6,
   "id": "002e3747",
   "metadata": {
    "scrolled": true
   },
   "outputs": [
    {
     "data": {
      "text/plain": [
       "0     4\n",
       "1     8\n",
       "2    15\n",
       "3    16\n",
       "4    23\n",
       "5    42\n",
       "dtype: int64"
      ]
     },
     "execution_count": 6,
     "metadata": {},
     "output_type": "execute_result"
    }
   ],
   "source": [
    "s"
   ]
  },
  {
   "cell_type": "markdown",
   "id": "80dde799",
   "metadata": {},
   "source": [
    "### Q2. Create a variable of list type containing 10 elements in it, and apply pandas.Series function on the variable print it."
   ]
  },
  {
   "cell_type": "code",
   "execution_count": 7,
   "id": "dab4fc50",
   "metadata": {
    "scrolled": true
   },
   "outputs": [
    {
     "name": "stdout",
     "output_type": "stream",
     "text": [
      "0     1\n",
      "1     2\n",
      "2     3\n",
      "3     4\n",
      "4     5\n",
      "5     6\n",
      "6     7\n",
      "7     8\n",
      "8     9\n",
      "9    10\n",
      "dtype: int64\n"
     ]
    }
   ],
   "source": [
    "x=[1,2,3,4,5,6,7,8,9,10]\n",
    "print(pd.Series(x))"
   ]
  },
  {
   "cell_type": "markdown",
   "id": "70b5662b",
   "metadata": {},
   "source": [
    "### Q3. Create a Pandas DataFrame that contains the following data:"
   ]
  },
  {
   "cell_type": "code",
   "execution_count": 11,
   "id": "6cacd91f",
   "metadata": {},
   "outputs": [
    {
     "name": "stdout",
     "output_type": "stream",
     "text": [
      "     Name  Age  Gender\n",
      "0   Alice   25  Female\n",
      "1     Bob   30    Male\n",
      "2  Claire   27  Female\n"
     ]
    }
   ],
   "source": [
    "df=pd.DataFrame({\"Name\":[\"Alice\",\"Bob\",\"Claire\"],\n",
    "               \"Age\":[25,30,27],\n",
    "               \"Gender\":[\"Female\",\"Male\",\"Female\"]})\n",
    "print(df)"
   ]
  },
  {
   "cell_type": "markdown",
   "id": "da0a6b2d",
   "metadata": {},
   "source": [
    "### Q4. What is ‘DataFrame’ in pandas and how is it different from pandas.series? Explain with an example."
   ]
  },
  {
   "cell_type": "markdown",
   "id": "f0cc8618",
   "metadata": {},
   "source": [
    "In Pandas, a DataFrame is a two-dimensional, tabular data structure that can be thought of as a collection of Pandas Series.\n",
    "\n",
    "**Series**\n",
    "- A Pandas Series is a one-dimensional data structure that can be thought of as a single column of data with an index.\n",
    "- A Series is typically used to represent a single variable or attribute.\n",
    "\n",
    "**DataFrame**\n",
    "- A Pandas DataFrame is a two-dimensional data structure that resembles a table or spreadsheet with rows and columns.\n",
    "- A DataFrame is used to store and work with structured datasets where you have multiple variables or attributes."
   ]
  },
  {
   "cell_type": "code",
   "execution_count": 12,
   "id": "e6094ff1",
   "metadata": {
    "scrolled": true
   },
   "outputs": [
    {
     "name": "stdout",
     "output_type": "stream",
     "text": [
      "This are Series\n",
      "0     Alice\n",
      "1       Bob\n",
      "2    Claire\n",
      "dtype: object \n",
      " 0    25\n",
      "1    30\n",
      "2    27\n",
      "dtype: int64 \n",
      " 0    Female\n",
      "1      Male\n",
      "2    Female\n",
      "dtype: object \n",
      "\n",
      "Combining these Series as different columns we formed a dataframe\n",
      "     Name  Age  Gender\n",
      "0   Alice   25  Female\n",
      "1     Bob   30    Male\n",
      "2  Claire   27  Female\n"
     ]
    }
   ],
   "source": [
    "#Examples\n",
    "x=[\"Alice\",\"Bob\",\"Claire\"]\n",
    "y=[25,30,27]\n",
    "z=[\"Female\",\"Male\",\"Female\"]\n",
    "Name=pd.Series(x)\n",
    "Age=pd.Series(y)\n",
    "Gender=pd.Series(z)\n",
    "print(\"This are Series\")\n",
    "print(Name,\"\\n\",Age,\"\\n\",Gender,\"\\n\")\n",
    "data=pd.DataFrame({\"Name\":Name,\n",
    "                  \"Age\":Age,\n",
    "                  \"Gender\":Gender})\n",
    "print(\"Combining these Series as different columns we formed a dataframe\")\n",
    "print(data)\n"
   ]
  },
  {
   "cell_type": "markdown",
   "id": "dd38d131",
   "metadata": {},
   "source": [
    "### Q5. What are some common functions you can use to manipulate data in a Pandas DataFrame? Can you give an example of when you might use one of these functions?"
   ]
  },
  {
   "cell_type": "markdown",
   "id": "61ecc64e",
   "metadata": {},
   "source": [
    "Some of the common functions you can use to manipulate data in a Panda DataFrame are:\n",
    "\n",
    "1. **Selection and Filtering**\n",
    "    - df['column_name'] or df.column_name: for selecting a single column\n",
    "    - df[['col1', 'col2']]: Select multiple columns.\n",
    "    - df.loc[row_label] or df.loc[row_label, column_label]: Select data by label.\n",
    "    - df.iloc[row_index] or df.iloc[row_index, col_index]: Select data by integer location.\n",
    "    - df[df['column'] > value]: Filter rows based on a condition.\n",
    "    \n",
    "2. **Sorting**\n",
    "    - df.sort_values(by='column_name'): Sort DataFrame by one or more columns.\n",
    "    - df.sort_index(): Sort DataFrame by index.\n",
    "    \n",
    "3. **Aggregation**\n",
    "    - df.groupby('column_name').agg({'other_column': 'function'}): Group data by a column and apply an aggregation function (e.g., sum, mean) to another column.\n",
    "    - df['column_name'].agg(['sum', 'mean']): Compute summary statistics for a column.\n",
    "4. **Joining and Combining**\n",
    "    - pd.concat([df1, df2]): Combine DataFrames vertically (along rows).\n",
    "    - pd.merge(df1, df2, on='key_column'): Perform SQL-style joins on DataFrames.\n",
    "    \n",
    "5. **Data Cleaning**\n",
    "    - df.drop('column_name', axis=1): Remove a column.\n",
    "    - df.fillna(value): Fill missing values with a specified value.\n",
    "    - df.drop_duplicates(): Remove duplicate rows.\n",
    "    \n",
    "6. **Data Transformation**\n",
    "    - df.apply(function): Apply a function to each element or row/column.\n",
    "    - df.replace(old_value, new_value): Replace values in the DataFrame.\n",
    "    \n",
    "7. **Statistical Operations**\n",
    "    - df.describe(): Generate summary statistics of numeric columns.\n",
    "    - df.corr(): Calculate the correlation matrix between numeric columns.\n",
    "\n",
    "8. **Data Visualization**\n",
    "    - df.plot(): Create basic plots for data visualization (requires Matplotlib or other plotting libraries).\n",
    "    \n",
    "9. **Datetime Operations**\n",
    "    - pd.to_datetime(df['date_column']): Convert a column to datetime format.\n",
    "    - df['date_column'].dt.year: Extract year from datetime column."
   ]
  },
  {
   "cell_type": "markdown",
   "id": "4fcee051",
   "metadata": {},
   "source": [
    "### Q6. Which of the following is mutable in nature Series, DataFrame, Panel?"
   ]
  },
  {
   "cell_type": "markdown",
   "id": "9304ddc4",
   "metadata": {},
   "source": [
    "DataFrame"
   ]
  },
  {
   "cell_type": "markdown",
   "id": "832172db",
   "metadata": {},
   "source": [
    "### Q7. Create a DataFrame using multiple Series. Explain with an example."
   ]
  },
  {
   "cell_type": "code",
   "execution_count": 13,
   "id": "7bd23b66",
   "metadata": {},
   "outputs": [
    {
     "name": "stdout",
     "output_type": "stream",
     "text": [
      "This are Series\n",
      "0     Alice\n",
      "1       Bob\n",
      "2    Claire\n",
      "dtype: object \n",
      " 0    25\n",
      "1    30\n",
      "2    27\n",
      "dtype: int64 \n",
      " 0    Female\n",
      "1      Male\n",
      "2    Female\n",
      "dtype: object \n",
      "\n",
      "Combining these Series as different columns we formed a dataframe\n",
      "     Name  Age  Gender\n",
      "0   Alice   25  Female\n",
      "1     Bob   30    Male\n",
      "2  Claire   27  Female\n"
     ]
    }
   ],
   "source": [
    "x=[\"Alice\",\"Bob\",\"Claire\"]\n",
    "y=[25,30,27]\n",
    "z=[\"Female\",\"Male\",\"Female\"]\n",
    "Name=pd.Series(x)\n",
    "Age=pd.Series(y)\n",
    "Gender=pd.Series(z)\n",
    "print(\"This are Series\")\n",
    "print(Name,\"\\n\",Age,\"\\n\",Gender,\"\\n\")\n",
    "data=pd.DataFrame({\"Name\":Name,\n",
    "                  \"Age\":Age,\n",
    "                  \"Gender\":Gender})\n",
    "print(\"Combining these Series as different columns we formed a dataframe\")\n",
    "print(data)"
   ]
  }
 ],
 "metadata": {
  "kernelspec": {
   "display_name": "Python 3 (ipykernel)",
   "language": "python",
   "name": "python3"
  },
  "language_info": {
   "codemirror_mode": {
    "name": "ipython",
    "version": 3
   },
   "file_extension": ".py",
   "mimetype": "text/x-python",
   "name": "python",
   "nbconvert_exporter": "python",
   "pygments_lexer": "ipython3",
   "version": "3.8.12"
  }
 },
 "nbformat": 4,
 "nbformat_minor": 5
}
