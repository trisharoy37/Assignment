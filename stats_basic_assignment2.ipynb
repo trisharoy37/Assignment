{
 "cells": [
  {
   "cell_type": "markdown",
   "metadata": {},
   "source": [
    "Q1. What are the three measures of central tendency?\n",
    "\n",
    "Mean: The arithmetic average of a dataset. It is calculated by summing all values and dividing by the total number of values.\n",
    "\n",
    "Median: The middle value in a sorted dataset. If there is an even number of values, it is the average of the two middle values.\n",
    "\n",
    "Mode: The value that appears most frequently in a dataset."
   ]
  },
  {
   "cell_type": "markdown",
   "metadata": {},
   "source": [
    "Q2. What is the difference between the mean, median, and mode? How are they used to measure the central tendency of a dataset?\n",
    "\n",
    "    i)Mean: Provides a balance point of the data and includes all values in its calculation. It is used when the dataset is symmetric and free of outliers.\n",
    "    Example: Calculating the average test score of a class.\n",
    "    \n",
    "    ii)Median: Gives the middle value, useful for skewed distributions or when outliers are present.\n",
    "    Example: Determining the median household income in a region.\n",
    "    \n",
    "    iii)Mode: Identifies the most frequent value, useful for categorical data or to highlight the most common value in a dataset.\n",
    "    Example: Finding the most common shoe size sold in a store.\n",
    "    \n",
    "    By choosing the appropriate measure of central tendency, you can accurately describe the center of your data and gain meaningful insights into the distribution and characteristics of the dataset."
   ]
  },
  {
   "cell_type": "markdown",
   "metadata": {},
   "source": [
    "Q3. Measure the three measures of central tendency for the given height data:\n",
    "[178,177,176,177,178.2,178,175,179,180,175,178.9,176.2,177,172.5,178,176.5] "
   ]
  },
  {
   "cell_type": "code",
   "execution_count": 7,
   "metadata": {},
   "outputs": [
    {
     "name": "stdout",
     "output_type": "stream",
     "text": [
      "177.01875\n",
      "177.0\n",
      "178\n"
     ]
    }
   ],
   "source": [
    "import numpy as np\n",
    "import statistics\n",
    "\n",
    "l=[178,177,176,177,178.2,178,175,179,180,175,178.9,176.2,177,172.5,178,176.5] \n",
    "print(np.mean(l))\n",
    "print(np.median(l))\n",
    "print(statistics.mode(l))"
   ]
  },
  {
   "cell_type": "markdown",
   "metadata": {},
   "source": [
    "Q4. Find the standard deviation for the given data:\n",
    "[178,177,176,177,178.2,178,175,179,180,175,178.9,176.2,177,172.5,178,176.5]"
   ]
  },
  {
   "cell_type": "code",
   "execution_count": 9,
   "metadata": {},
   "outputs": [
    {
     "data": {
      "text/plain": [
       "1.7885814036548633"
      ]
     },
     "execution_count": 9,
     "metadata": {},
     "output_type": "execute_result"
    }
   ],
   "source": [
    "np.std(l)"
   ]
  },
  {
   "cell_type": "markdown",
   "metadata": {},
   "source": [
    "Q5.How are measures of dispersion such as range, variance, and standard deviation used to describe the spread of a dataset? Provide an example.\n",
    "\n",
    "    i) Range :\n",
    "        The rangle is the simplest measure of dispersion. It is the difference between the maximum and minimum values in the dataset\n",
    "        Example: Consider the test scores of a class: [70, 75, 80, 85, 90]. The range is 90 - 70 = 20. This tells us that the highest score is 20 points higher than the lowest score.\n",
    "\n",
    "    ii)Variance :\n",
    "        Variance measures the average squared deviation of each data point from the mean. It quantifies how much the data points spread out from the mean.\n",
    "        Example: For the test scores [70, 75, 80, 85, 90], the mean is 80. The variance is 50.This indicates that, on average, the squared deviations from the mean are 50.\n",
    "    \n",
    "    iii)Standard Deviation :\n",
    "        Standard deviation is the square root of the variance. It measures the average distance of each data point from the mean and is in the same units as the original data.\n",
    "        Example: For the test scores [70, 75, 80, 85, 90], the standard deviation is the square root of 50, approximately 7.07. This means that, on average, the test scores differ from the mean by about 7.07 points.\n",
    "    \n",
    "    These measures help in understanding how much variability there is in the data, which is crucial for tasks such as risk assessment, quality control, and comparing different datasets.\n"
   ]
  },
  {
   "cell_type": "markdown",
   "metadata": {},
   "source": [
    "Q6. What is a Venn diagram?\n",
    "\n",
    "\n",
    "A Venn diagram is a graphical representation used to illustrate the logical relationships between different sets. It consists of overlapping circles, each representing a set."
   ]
  },
  {
   "cell_type": "markdown",
   "metadata": {},
   "source": [
    "Q7. For the two given sets A=(2,3,4,5,6,7) & B=(0,2,6,8,10).Find:\n",
    "\n",
    "    i) A intersection B: (2,6)\n",
    "    ii) A union B: (2,3,4,5,6,7,0,8,10)"
   ]
  },
  {
   "cell_type": "markdown",
   "metadata": {},
   "source": [
    "Q8.What do you understand about skewness in data?\n",
    "\n",
    "\n",
    "Skewness in data refers to the asymmetry or distortion from the normal distribution (bell curve) in a dataset. It measures the extent to which data values are not evenly distributed around the mean. Skewness can be positive, negative, or near zero, indicating different types of asymmetry in the data distribution."
   ]
  },
  {
   "cell_type": "markdown",
   "metadata": {},
   "source": [
    "Q9.If a data is right skewed then what will be the position of median with respect to mean?\n",
    "\n",
    "In a right skewed distribution, the order of the central tendency measures typically is:\n",
    "Median < Mean\n",
    "\n",
    "**Mean:** Pulled towards the larger values in the right tail, resulting in a higher value.\n",
    "\n",
    "**Median:** Remains closer to the center of the bulk of the data."
   ]
  },
  {
   "cell_type": "markdown",
   "metadata": {},
   "source": [
    "Q10.Explain the difference between covariance and correlation. How are these measures used in statistical analysis?\n",
    "\n",
    "Covariance measures the direction of the linear relationship between two variables. It indicates whether an increase in one variable tends to be associated with an increase or decrease in another variable.\n",
    "\n",
    "    Use:\n",
    "    i)Used in the calculation of correlation.\n",
    "    ii)Helps in understanding the direction of the relationship between variables.\n",
    "\n",
    "Correlation measures both the strength and direction of the linear relationship between two variables. It is a standardized version of covariance and provides a dimensionless value that ranges from -1 to 1.\n",
    "\n",
    "    Use: \n",
    "    i)Used in regression analysis to quantify the strength of the relationship between independent and dependent variables.\n",
    "    ii)Used in feature selection to identify multicollinearity in datasets.\n",
    "    iii)Helps in determining the degree to which variables are linearly related, aiding in predictive modeling and hypothesis testing.\n"
   ]
  },
  {
   "cell_type": "markdown",
   "metadata": {},
   "source": [
    "Q11. What is the formula for calculating the sample mean? Provide an example calculation for a dataset.\n",
    "\n",
    "sample mean=sum of the data points/number of data points(n)\n",
    "\n",
    "for example: {10,20,30,40,50}\n",
    "sample mean=150/5=30\n",
    "\n",
    "Therefore, the sample mean for the dataset \n",
    "{10,20,30,40,50} is 30."
   ]
  },
  {
   "cell_type": "markdown",
   "metadata": {},
   "source": [
    "Q12. For a normal distribution data what is the relationship between its measure of central tendency?\n",
    "\n",
    "For a normal distribution, the mean, median, and mode are all equal and located at the center of the distribution. This equality results from the distribution's perfect symmetry and uniformity around the center point.\n",
    "\n",
    "\n",
    "\n",
    "\n",
    "\n"
   ]
  },
  {
   "cell_type": "markdown",
   "metadata": {},
   "source": [
    "Q13. How is covariance different from correlation?\n",
    "\n",
    "Covariance indicates only the direction of the relationship whereas correlation indicates both the strength and direction of the relationship\n",
    "While both covariance and correlation measure the relationship between two variables, correlation is more interpretable and standardized, making it more widely used in statistical analysis."
   ]
  },
  {
   "cell_type": "markdown",
   "metadata": {},
   "source": [
    "Q14. How do outliers affect measures of central tendency and dispersion? Provide an example.\n",
    "\n",
    "**Mean:** Highly affected by outliers, making it potentially unrepresentative of the central tendency.\n",
    "\n",
    "**Median:** Less affected by outliers, remains a more robust measure of central tendency in the presence of outliers.\n",
    "\n",
    "**Mode:** Generally unaffected by outliers.\n",
    "\n",
    "**Range:** Greatly affected by outliers, which can distort the perceived spread of data.\n",
    "\n",
    "**Variance and Standard Deviation:** Highly sensitive to outliers, which can inflate the perceived variability in the data."
   ]
  }
 ],
 "metadata": {
  "kernelspec": {
   "display_name": "Python 3",
   "language": "python",
   "name": "python3"
  },
  "language_info": {
   "codemirror_mode": {
    "name": "ipython",
    "version": 3
   },
   "file_extension": ".py",
   "mimetype": "text/x-python",
   "name": "python",
   "nbconvert_exporter": "python",
   "pygments_lexer": "ipython3",
   "version": "3.12.1"
  }
 },
 "nbformat": 4,
 "nbformat_minor": 2
}
