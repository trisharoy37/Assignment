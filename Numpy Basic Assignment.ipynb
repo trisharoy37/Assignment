{
 "cells": [
  {
   "cell_type": "code",
   "execution_count": 8,
   "id": "9d9eef92",
   "metadata": {},
   "outputs": [],
   "source": [
    "import numpy as np\n",
    "list_=['1','2','3','4','5']\n",
    "array_list=np.array(object=list_)"
   ]
  },
  {
   "cell_type": "markdown",
   "id": "a5dbf22a",
   "metadata": {},
   "source": [
    "### Q1. Is there any difference in the data type of variables list_ and array_list? If there is then write a code to print the dats types of both the variables.\n",
    "\n",
    "Yes, They are different **list_** is list, whereas **array_list** is array"
   ]
  },
  {
   "cell_type": "code",
   "execution_count": 2,
   "id": "9c6e1d7e",
   "metadata": {},
   "outputs": [
    {
     "data": {
      "text/plain": [
       "list"
      ]
     },
     "execution_count": 2,
     "metadata": {},
     "output_type": "execute_result"
    }
   ],
   "source": [
    "type(list_)"
   ]
  },
  {
   "cell_type": "code",
   "execution_count": 3,
   "id": "5d082152",
   "metadata": {},
   "outputs": [
    {
     "data": {
      "text/plain": [
       "numpy.ndarray"
      ]
     },
     "execution_count": 3,
     "metadata": {},
     "output_type": "execute_result"
    }
   ],
   "source": [
    "type(array_list)"
   ]
  },
  {
   "cell_type": "markdown",
   "id": "60e23973",
   "metadata": {},
   "source": [
    "### Q2. Write a code to print the data type of each and every element of both the variables list_ and arra_list."
   ]
  },
  {
   "cell_type": "code",
   "execution_count": 4,
   "id": "1de76157",
   "metadata": {
    "scrolled": true
   },
   "outputs": [
    {
     "name": "stdout",
     "output_type": "stream",
     "text": [
      "1 <class 'str'>\n",
      "1 <class 'numpy.str_'>\n",
      "2 <class 'str'>\n",
      "2 <class 'numpy.str_'>\n",
      "3 <class 'str'>\n",
      "3 <class 'numpy.str_'>\n",
      "4 <class 'str'>\n",
      "4 <class 'numpy.str_'>\n",
      "5 <class 'str'>\n",
      "5 <class 'numpy.str_'>\n"
     ]
    }
   ],
   "source": [
    "for i in range(len(list_)):\n",
    "    print(list_[i],type(list_[i]))\n",
    "    print(array_list[i],type(array_list[i]))"
   ]
  },
  {
   "cell_type": "markdown",
   "id": "dc4e40d6",
   "metadata": {},
   "source": [
    "### Q3. Considering the following changes in the variable, array_list:"
   ]
  },
  {
   "cell_type": "code",
   "execution_count": 9,
   "id": "18d85705",
   "metadata": {},
   "outputs": [],
   "source": [
    "arra_list=np.array(object=list_, dtype=int)"
   ]
  },
  {
   "cell_type": "markdown",
   "id": "9c0832e9",
   "metadata": {},
   "source": [
    "Will there be any difference in the data type of the elements present in both the variables, list_ and arra_list? If so then print the data types of each and every element present in both the variables, list_ and arra_list"
   ]
  },
  {
   "cell_type": "markdown",
   "id": "1568d043",
   "metadata": {},
   "source": [
    "Yes, there will be difference in the elements of list_ and arra_list. The elements of list_ are of string data type, whereas the elements of arra_list is of integer data type"
   ]
  },
  {
   "cell_type": "code",
   "execution_count": 10,
   "id": "d0127f67",
   "metadata": {
    "scrolled": true
   },
   "outputs": [
    {
     "name": "stdout",
     "output_type": "stream",
     "text": [
      "1 <class 'str'>\n",
      "1 <class 'numpy.int32'>\n",
      "2 <class 'str'>\n",
      "2 <class 'numpy.int32'>\n",
      "3 <class 'str'>\n",
      "3 <class 'numpy.int32'>\n",
      "4 <class 'str'>\n",
      "4 <class 'numpy.int32'>\n",
      "5 <class 'str'>\n",
      "5 <class 'numpy.int32'>\n"
     ]
    }
   ],
   "source": [
    "for i in range(len(list_)):\n",
    "    print(list_[i],type(list_[i]))\n",
    "    print(arra_list[i],type(arra_list[i]))"
   ]
  },
  {
   "cell_type": "markdown",
   "id": "12cc8564",
   "metadata": {},
   "source": [
    "### Consider the below code to answer further questions:"
   ]
  },
  {
   "cell_type": "code",
   "execution_count": 11,
   "id": "c553a5ad",
   "metadata": {},
   "outputs": [],
   "source": [
    "import numpy as np\n",
    "num_list=[[1,2,3],[4,5,6]]\n",
    "num_array=np.array(object=num_list)"
   ]
  },
  {
   "cell_type": "markdown",
   "id": "b2b74280",
   "metadata": {},
   "source": [
    "### Q4. Write a code to find the following characteristics of variable, num_array:\n",
    "i) shape\n",
    "ii) size"
   ]
  },
  {
   "cell_type": "code",
   "execution_count": 13,
   "id": "14626f54",
   "metadata": {},
   "outputs": [
    {
     "data": {
      "text/plain": [
       "(2, 3)"
      ]
     },
     "execution_count": 13,
     "metadata": {},
     "output_type": "execute_result"
    }
   ],
   "source": [
    "num_array.shape"
   ]
  },
  {
   "cell_type": "code",
   "execution_count": 12,
   "id": "b111f4c1",
   "metadata": {},
   "outputs": [
    {
     "data": {
      "text/plain": [
       "6"
      ]
     },
     "execution_count": 12,
     "metadata": {},
     "output_type": "execute_result"
    }
   ],
   "source": [
    "num_array.size"
   ]
  },
  {
   "cell_type": "markdown",
   "id": "42b7de6b",
   "metadata": {},
   "source": [
    "### Q5. Write a code to create numpy array of 3*3 matrix containing zeros only, using a numpy array creation function."
   ]
  },
  {
   "cell_type": "code",
   "execution_count": 14,
   "id": "f0effabc",
   "metadata": {
    "scrolled": true
   },
   "outputs": [
    {
     "data": {
      "text/plain": [
       "array([[0., 0., 0.],\n",
       "       [0., 0., 0.],\n",
       "       [0., 0., 0.]])"
      ]
     },
     "execution_count": 14,
     "metadata": {},
     "output_type": "execute_result"
    }
   ],
   "source": [
    "np.zeros([3,3])"
   ]
  },
  {
   "cell_type": "markdown",
   "id": "590c2069",
   "metadata": {},
   "source": [
    "### Q6. Create an identity matrix of shape(5,5) using numpy functions?"
   ]
  },
  {
   "cell_type": "code",
   "execution_count": 15,
   "id": "30bb8c15",
   "metadata": {},
   "outputs": [
    {
     "data": {
      "text/plain": [
       "array([[1., 0., 0., 0., 0.],\n",
       "       [0., 1., 0., 0., 0.],\n",
       "       [0., 0., 1., 0., 0.],\n",
       "       [0., 0., 0., 1., 0.],\n",
       "       [0., 0., 0., 0., 1.]])"
      ]
     },
     "execution_count": 15,
     "metadata": {},
     "output_type": "execute_result"
    }
   ],
   "source": [
    "np.eye(5)"
   ]
  },
  {
   "cell_type": "code",
   "execution_count": null,
   "id": "c1d2cf06",
   "metadata": {},
   "outputs": [],
   "source": []
  }
 ],
 "metadata": {
  "kernelspec": {
   "display_name": "Python 3 (ipykernel)",
   "language": "python",
   "name": "python3"
  },
  "language_info": {
   "codemirror_mode": {
    "name": "ipython",
    "version": 3
   },
   "file_extension": ".py",
   "mimetype": "text/x-python",
   "name": "python",
   "nbconvert_exporter": "python",
   "pygments_lexer": "ipython3",
   "version": "3.8.12"
  }
 },
 "nbformat": 4,
 "nbformat_minor": 5
}
