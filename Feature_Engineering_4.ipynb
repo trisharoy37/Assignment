{
 "cells": [
  {
   "cell_type": "markdown",
   "metadata": {},
   "source": [
    "Q1. What is data encoding? How is it useful in data science?\n",
    " "
   ]
  },
  {
   "cell_type": "markdown",
   "metadata": {},
   "source": [
    "Data encoding is the process of converting data into a specific format for efficient storage, transmission, and processing. In data science, this often involves transforming categorical data into a numerical format that can be used in machine learning models."
   ]
  },
  {
   "cell_type": "markdown",
   "metadata": {
    "vscode": {
     "languageId": "plaintext"
    }
   },
   "source": [
    "Q2. What is nominal encoding? Provide an example of how you would use it in a real-world scenario."
   ]
  },
  {
   "cell_type": "markdown",
   "metadata": {
    "vscode": {
     "languageId": "plaintext"
    }
   },
   "source": [
    "Nominal Encoding is a technique used to transform categorical variables that have no intrinsic ordering into numerical values that can be used in machine learning models. One common method for nominal encoding is one-hot encoding, which creates a binary vector for each category in the variable.\n",
    "\n",
    "Real-World Example:\n",
    "Imagine a retail company wants to analyze customer purchase behavior based on their demographic data. One of the variables in the dataset is the \"Customer Type\" which can have values like \"Regular\", \"Loyal\", and \"New\"."
   ]
  },
  {
   "cell_type": "code",
   "execution_count": 1,
   "metadata": {},
   "outputs": [
    {
     "data": {
      "text/html": [
       "<div>\n",
       "<style scoped>\n",
       "    .dataframe tbody tr th:only-of-type {\n",
       "        vertical-align: middle;\n",
       "    }\n",
       "\n",
       "    .dataframe tbody tr th {\n",
       "        vertical-align: top;\n",
       "    }\n",
       "\n",
       "    .dataframe thead th {\n",
       "        text-align: right;\n",
       "    }\n",
       "</style>\n",
       "<table border=\"1\" class=\"dataframe\">\n",
       "  <thead>\n",
       "    <tr style=\"text-align: right;\">\n",
       "      <th></th>\n",
       "      <th>customer type</th>\n",
       "      <th>customer type_Loyal</th>\n",
       "      <th>customer type_New</th>\n",
       "      <th>customer type_Regular</th>\n",
       "    </tr>\n",
       "  </thead>\n",
       "  <tbody>\n",
       "    <tr>\n",
       "      <th>0</th>\n",
       "      <td>Regular</td>\n",
       "      <td>0.0</td>\n",
       "      <td>0.0</td>\n",
       "      <td>1.0</td>\n",
       "    </tr>\n",
       "    <tr>\n",
       "      <th>1</th>\n",
       "      <td>Loyal</td>\n",
       "      <td>1.0</td>\n",
       "      <td>0.0</td>\n",
       "      <td>0.0</td>\n",
       "    </tr>\n",
       "    <tr>\n",
       "      <th>2</th>\n",
       "      <td>New</td>\n",
       "      <td>0.0</td>\n",
       "      <td>1.0</td>\n",
       "      <td>0.0</td>\n",
       "    </tr>\n",
       "    <tr>\n",
       "      <th>3</th>\n",
       "      <td>Regular</td>\n",
       "      <td>0.0</td>\n",
       "      <td>0.0</td>\n",
       "      <td>1.0</td>\n",
       "    </tr>\n",
       "    <tr>\n",
       "      <th>4</th>\n",
       "      <td>New</td>\n",
       "      <td>0.0</td>\n",
       "      <td>1.0</td>\n",
       "      <td>0.0</td>\n",
       "    </tr>\n",
       "    <tr>\n",
       "      <th>5</th>\n",
       "      <td>Loyal</td>\n",
       "      <td>1.0</td>\n",
       "      <td>0.0</td>\n",
       "      <td>0.0</td>\n",
       "    </tr>\n",
       "    <tr>\n",
       "      <th>6</th>\n",
       "      <td>Regular</td>\n",
       "      <td>0.0</td>\n",
       "      <td>0.0</td>\n",
       "      <td>1.0</td>\n",
       "    </tr>\n",
       "  </tbody>\n",
       "</table>\n",
       "</div>"
      ],
      "text/plain": [
       "  customer type  customer type_Loyal  customer type_New  customer type_Regular\n",
       "0       Regular                  0.0                0.0                    1.0\n",
       "1         Loyal                  1.0                0.0                    0.0\n",
       "2           New                  0.0                1.0                    0.0\n",
       "3       Regular                  0.0                0.0                    1.0\n",
       "4           New                  0.0                1.0                    0.0\n",
       "5         Loyal                  1.0                0.0                    0.0\n",
       "6       Regular                  0.0                0.0                    1.0"
      ]
     },
     "execution_count": 1,
     "metadata": {},
     "output_type": "execute_result"
    }
   ],
   "source": [
    "# implementation\n",
    "import pandas as pd\n",
    "from sklearn.preprocessing import OneHotEncoder\n",
    "\n",
    "df= pd.DataFrame({'customer type':['Regular', 'Loyal', 'New', 'Regular', 'New', 'Loyal', 'Regular']})\n",
    "encoder=OneHotEncoder()\n",
    "encoded=encoder.fit_transform(df[['customer type']])\n",
    "encoded_df=pd.DataFrame(encoded.toarray(),columns=encoder.get_feature_names_out())\n",
    "pd.concat([df,encoded_df],axis=1)"
   ]
  },
  {
   "cell_type": "markdown",
   "metadata": {},
   "source": [
    "Q3. In what situations in nominal encoding preferred over one-hot encoding? Provide a practical example.\n",
    "\n",
    "\n"
   ]
  },
  {
   "cell_type": "markdown",
   "metadata": {},
   "source": [
    "Situations where nominal encoding is preferred:\n",
    "\n",
    "1. High Cardinality\n",
    "2. Tree-Based Models\n",
    "3. Feature Importance\n",
    "\n",
    "Practical example\n",
    "Scenario: Predicting Product Returns in E-Commerce\n",
    "An e-commerce company wants to predict whether a product will be returned based on various features, including the \"Product Category\". The dataset contains a large number of unique product categories."
   ]
  },
  {
   "cell_type": "code",
   "execution_count": 10,
   "metadata": {},
   "outputs": [
    {
     "data": {
      "text/html": [
       "<div>\n",
       "<style scoped>\n",
       "    .dataframe tbody tr th:only-of-type {\n",
       "        vertical-align: middle;\n",
       "    }\n",
       "\n",
       "    .dataframe tbody tr th {\n",
       "        vertical-align: top;\n",
       "    }\n",
       "\n",
       "    .dataframe thead th {\n",
       "        text-align: right;\n",
       "    }\n",
       "</style>\n",
       "<table border=\"1\" class=\"dataframe\">\n",
       "  <thead>\n",
       "    <tr style=\"text-align: right;\">\n",
       "      <th></th>\n",
       "      <th>Order ID</th>\n",
       "      <th>Product Category</th>\n",
       "      <th>Price</th>\n",
       "      <th>Returned</th>\n",
       "      <th>p_c</th>\n",
       "    </tr>\n",
       "  </thead>\n",
       "  <tbody>\n",
       "    <tr>\n",
       "      <th>0</th>\n",
       "      <td>1</td>\n",
       "      <td>Electronics</td>\n",
       "      <td>299</td>\n",
       "      <td>Yes</td>\n",
       "      <td>2</td>\n",
       "    </tr>\n",
       "    <tr>\n",
       "      <th>1</th>\n",
       "      <td>2</td>\n",
       "      <td>Clothing</td>\n",
       "      <td>49</td>\n",
       "      <td>No</td>\n",
       "      <td>1</td>\n",
       "    </tr>\n",
       "    <tr>\n",
       "      <th>2</th>\n",
       "      <td>3</td>\n",
       "      <td>Home Decor</td>\n",
       "      <td>79</td>\n",
       "      <td>No</td>\n",
       "      <td>3</td>\n",
       "    </tr>\n",
       "    <tr>\n",
       "      <th>3</th>\n",
       "      <td>4</td>\n",
       "      <td>Electronics</td>\n",
       "      <td>199</td>\n",
       "      <td>Yes</td>\n",
       "      <td>2</td>\n",
       "    </tr>\n",
       "    <tr>\n",
       "      <th>4</th>\n",
       "      <td>5</td>\n",
       "      <td>Beauty</td>\n",
       "      <td>29</td>\n",
       "      <td>No</td>\n",
       "      <td>0</td>\n",
       "    </tr>\n",
       "  </tbody>\n",
       "</table>\n",
       "</div>"
      ],
      "text/plain": [
       "   Order ID Product Category  Price Returned  p_c\n",
       "0         1      Electronics    299      Yes    2\n",
       "1         2         Clothing     49       No    1\n",
       "2         3       Home Decor     79       No    3\n",
       "3         4      Electronics    199      Yes    2\n",
       "4         5           Beauty     29       No    0"
      ]
     },
     "execution_count": 10,
     "metadata": {},
     "output_type": "execute_result"
    }
   ],
   "source": [
    "from sklearn.preprocessing import LabelEncoder\n",
    "\n",
    "data=pd.DataFrame({\n",
    "    'Order ID': [1, 2, 3, 4, 5],\n",
    "    'Product Category': ['Electronics', 'Clothing', 'Home Decor', 'Electronics', 'Beauty'],\n",
    "    'Price': [299, 49, 79, 199, 29],\n",
    "    'Returned': ['Yes', 'No', 'No', 'Yes', 'No']\n",
    "})\n",
    "encoder=LabelEncoder()\n",
    "encoded=encoder.fit_transform(data['Product Category'])\n",
    "encoded_df=pd.DataFrame({'p_c':encoded})\n",
    "pd.concat([data,encoded_df],axis=1)\n"
   ]
  },
  {
   "cell_type": "markdown",
   "metadata": {
    "vscode": {
     "languageId": "plaintext"
    }
   },
   "source": [
    "Q4. Suppose you have a dataset containing categorical data with 5 unique values. Which encoding technique would you use to transform suitable for machine learning algorithms? Explain why you made this choice.\n",
    "\n",
    "**If there is no ordinal relationship**\n",
    "Use One-Hot Encoding to avoid implying any ordinal relationship and to ensure that the categorical data is represented in a way that most algorithms can handle effectively.\n",
    "\n",
    "**If there exists an ordinal relationship**\n",
    "Use Label Encoding to preserve the ordinal information. \n",
    "\n",
    "\n"
   ]
  },
  {
   "cell_type": "markdown",
   "metadata": {
    "vscode": {
     "languageId": "plaintext"
    }
   },
   "source": [
    "Q5. In a machine learning project, you have a dataset with 1000 rows and 5 columns. Two of the columns are categorical, and the remaining three columns are numerical. If you were to use nominal encoding to transform the categorical data, how many new columns would be created? show your calculations."
   ]
  },
  {
   "cell_type": "markdown",
   "metadata": {},
   "source": [
    "it depends on the no. of unique value present in the categorical columns:\n",
    "\n",
    "suppose:\n",
    "column A = 5 unique values\n",
    "column B = 3 unique values\n",
    "therefore, 5+3=8 new columns will be created"
   ]
  },
  {
   "cell_type": "markdown",
   "metadata": {
    "vscode": {
     "languageId": "plaintext"
    }
   },
   "source": [
    "Q6. You are working with a dataset containing information about different types of animals, including their species, habitat, and diet. Which encoding technique would you use to transform the categorical data into a format suitable for machine learning algorithms? Justify your answer."
   ]
  },
  {
   "cell_type": "markdown",
   "metadata": {},
   "source": [
    "To transform categorical data into a format suitable for machine learning algorithms, I would use One-Hot Encoding.\n",
    "\n",
    "Because:\n",
    "1. Sutability for Nominal Data: \n",
    "One-hot encoding is particularly useful for categorical data where there is no inherent order among the categories (nominal data). In the context of animal species, habitat, and diet, these categories do not have a specific order, making one-hot encoding a fitting choice.\n",
    "\n",
    "2. Avoiding Ordinal Interpretation: If we were to use techniques like label encoding, which assigns a unique integer to each category, the algorithm might misinterpret the integers as having some ordinal relationship. This could lead to erroneous conclusions, especially when there's no actual order in the data.\n",
    "\n",
    "3. Compatibility with Many Algorithms: Many machine learning algorithms, such as linear regression, logistic regression, and neural networks, perform better with one-hot encoded data because it prevents them from assuming any sort of priority or hierarchy among the categories."
   ]
  },
  {
   "cell_type": "markdown",
   "metadata": {},
   "source": [
    "Q7. You are working on a project that involves predicting customer churn for a telecommunications company. You have a dataset with 5 features, including the customer's gender, age, contract type, monthly charges, and tenure. Which encoding technique(s) would you use to transform the categorical data into numerical data? Provide a step-by-step explaination of how would you implement the encoding.\n"
   ]
  },
  {
   "cell_type": "markdown",
   "metadata": {},
   "source": [
    "The encoding techniques used would depend on the nature of the categorical data:\n",
    "1. One-Hot Encoding for nominal(unordered) categorical features\n",
    "2. Label Encoding for binary categorical features.\n",
    "\n",
    "#### Step 1: Inspect the Dataset"
   ]
  },
  {
   "cell_type": "code",
   "execution_count": 22,
   "metadata": {},
   "outputs": [
    {
     "data": {
      "text/html": [
       "<div>\n",
       "<style scoped>\n",
       "    .dataframe tbody tr th:only-of-type {\n",
       "        vertical-align: middle;\n",
       "    }\n",
       "\n",
       "    .dataframe tbody tr th {\n",
       "        vertical-align: top;\n",
       "    }\n",
       "\n",
       "    .dataframe thead th {\n",
       "        text-align: right;\n",
       "    }\n",
       "</style>\n",
       "<table border=\"1\" class=\"dataframe\">\n",
       "  <thead>\n",
       "    <tr style=\"text-align: right;\">\n",
       "      <th></th>\n",
       "      <th>gender</th>\n",
       "      <th>tenure</th>\n",
       "      <th>MonthlyCharges</th>\n",
       "      <th>Contract</th>\n",
       "    </tr>\n",
       "  </thead>\n",
       "  <tbody>\n",
       "    <tr>\n",
       "      <th>0</th>\n",
       "      <td>Female</td>\n",
       "      <td>1</td>\n",
       "      <td>29.85</td>\n",
       "      <td>Month-to-month</td>\n",
       "    </tr>\n",
       "    <tr>\n",
       "      <th>1</th>\n",
       "      <td>Male</td>\n",
       "      <td>34</td>\n",
       "      <td>56.95</td>\n",
       "      <td>One year</td>\n",
       "    </tr>\n",
       "    <tr>\n",
       "      <th>2</th>\n",
       "      <td>Male</td>\n",
       "      <td>2</td>\n",
       "      <td>53.85</td>\n",
       "      <td>Month-to-month</td>\n",
       "    </tr>\n",
       "    <tr>\n",
       "      <th>3</th>\n",
       "      <td>Male</td>\n",
       "      <td>45</td>\n",
       "      <td>42.30</td>\n",
       "      <td>One year</td>\n",
       "    </tr>\n",
       "    <tr>\n",
       "      <th>4</th>\n",
       "      <td>Female</td>\n",
       "      <td>2</td>\n",
       "      <td>70.70</td>\n",
       "      <td>Month-to-month</td>\n",
       "    </tr>\n",
       "  </tbody>\n",
       "</table>\n",
       "</div>"
      ],
      "text/plain": [
       "   gender  tenure  MonthlyCharges        Contract\n",
       "0  Female       1           29.85  Month-to-month\n",
       "1    Male      34           56.95        One year\n",
       "2    Male       2           53.85  Month-to-month\n",
       "3    Male      45           42.30        One year\n",
       "4  Female       2           70.70  Month-to-month"
      ]
     },
     "execution_count": 22,
     "metadata": {},
     "output_type": "execute_result"
    }
   ],
   "source": [
    "import pandas as pd\n",
    "data=pd.read_csv(\"C:/Users/TRISHA ROY/Downloads/WA_Fn-UseC_-Telco-Customer-Churn.csv\")\n",
    "data=data[['gender','tenure','MonthlyCharges','Contract']]\n",
    "data.head()"
   ]
  },
  {
   "cell_type": "markdown",
   "metadata": {},
   "source": [
    "#### Step2: Identify Categorical Features\n",
    "In this dataset:\n",
    "1. Gender is a binary categorical feature.\n",
    "2. Contract is a nominal categorical feature."
   ]
  },
  {
   "cell_type": "code",
   "execution_count": 23,
   "metadata": {},
   "outputs": [],
   "source": [
    "## Step 3: Apply label Encoding to Binary Features\n",
    "from sklearn.preprocessing import LabelEncoder\n",
    "encoder=LabelEncoder()\n",
    "data['gender']=encoder.fit_transform(data['gender'])"
   ]
  },
  {
   "cell_type": "code",
   "execution_count": 24,
   "metadata": {},
   "outputs": [
    {
     "data": {
      "text/html": [
       "<div>\n",
       "<style scoped>\n",
       "    .dataframe tbody tr th:only-of-type {\n",
       "        vertical-align: middle;\n",
       "    }\n",
       "\n",
       "    .dataframe tbody tr th {\n",
       "        vertical-align: top;\n",
       "    }\n",
       "\n",
       "    .dataframe thead th {\n",
       "        text-align: right;\n",
       "    }\n",
       "</style>\n",
       "<table border=\"1\" class=\"dataframe\">\n",
       "  <thead>\n",
       "    <tr style=\"text-align: right;\">\n",
       "      <th></th>\n",
       "      <th>gender</th>\n",
       "      <th>tenure</th>\n",
       "      <th>MonthlyCharges</th>\n",
       "      <th>Contract_Month-to-month</th>\n",
       "      <th>Contract_One year</th>\n",
       "      <th>Contract_Two year</th>\n",
       "    </tr>\n",
       "  </thead>\n",
       "  <tbody>\n",
       "    <tr>\n",
       "      <th>0</th>\n",
       "      <td>0</td>\n",
       "      <td>1</td>\n",
       "      <td>29.85</td>\n",
       "      <td>1.0</td>\n",
       "      <td>0.0</td>\n",
       "      <td>0.0</td>\n",
       "    </tr>\n",
       "    <tr>\n",
       "      <th>1</th>\n",
       "      <td>1</td>\n",
       "      <td>34</td>\n",
       "      <td>56.95</td>\n",
       "      <td>0.0</td>\n",
       "      <td>1.0</td>\n",
       "      <td>0.0</td>\n",
       "    </tr>\n",
       "    <tr>\n",
       "      <th>2</th>\n",
       "      <td>1</td>\n",
       "      <td>2</td>\n",
       "      <td>53.85</td>\n",
       "      <td>1.0</td>\n",
       "      <td>0.0</td>\n",
       "      <td>0.0</td>\n",
       "    </tr>\n",
       "    <tr>\n",
       "      <th>3</th>\n",
       "      <td>1</td>\n",
       "      <td>45</td>\n",
       "      <td>42.30</td>\n",
       "      <td>0.0</td>\n",
       "      <td>1.0</td>\n",
       "      <td>0.0</td>\n",
       "    </tr>\n",
       "    <tr>\n",
       "      <th>4</th>\n",
       "      <td>0</td>\n",
       "      <td>2</td>\n",
       "      <td>70.70</td>\n",
       "      <td>1.0</td>\n",
       "      <td>0.0</td>\n",
       "      <td>0.0</td>\n",
       "    </tr>\n",
       "    <tr>\n",
       "      <th>...</th>\n",
       "      <td>...</td>\n",
       "      <td>...</td>\n",
       "      <td>...</td>\n",
       "      <td>...</td>\n",
       "      <td>...</td>\n",
       "      <td>...</td>\n",
       "    </tr>\n",
       "    <tr>\n",
       "      <th>7038</th>\n",
       "      <td>1</td>\n",
       "      <td>24</td>\n",
       "      <td>84.80</td>\n",
       "      <td>0.0</td>\n",
       "      <td>1.0</td>\n",
       "      <td>0.0</td>\n",
       "    </tr>\n",
       "    <tr>\n",
       "      <th>7039</th>\n",
       "      <td>0</td>\n",
       "      <td>72</td>\n",
       "      <td>103.20</td>\n",
       "      <td>0.0</td>\n",
       "      <td>1.0</td>\n",
       "      <td>0.0</td>\n",
       "    </tr>\n",
       "    <tr>\n",
       "      <th>7040</th>\n",
       "      <td>0</td>\n",
       "      <td>11</td>\n",
       "      <td>29.60</td>\n",
       "      <td>1.0</td>\n",
       "      <td>0.0</td>\n",
       "      <td>0.0</td>\n",
       "    </tr>\n",
       "    <tr>\n",
       "      <th>7041</th>\n",
       "      <td>1</td>\n",
       "      <td>4</td>\n",
       "      <td>74.40</td>\n",
       "      <td>1.0</td>\n",
       "      <td>0.0</td>\n",
       "      <td>0.0</td>\n",
       "    </tr>\n",
       "    <tr>\n",
       "      <th>7042</th>\n",
       "      <td>1</td>\n",
       "      <td>66</td>\n",
       "      <td>105.65</td>\n",
       "      <td>0.0</td>\n",
       "      <td>0.0</td>\n",
       "      <td>1.0</td>\n",
       "    </tr>\n",
       "  </tbody>\n",
       "</table>\n",
       "<p>7043 rows × 6 columns</p>\n",
       "</div>"
      ],
      "text/plain": [
       "      gender  tenure  MonthlyCharges  Contract_Month-to-month  \\\n",
       "0          0       1           29.85                      1.0   \n",
       "1          1      34           56.95                      0.0   \n",
       "2          1       2           53.85                      1.0   \n",
       "3          1      45           42.30                      0.0   \n",
       "4          0       2           70.70                      1.0   \n",
       "...      ...     ...             ...                      ...   \n",
       "7038       1      24           84.80                      0.0   \n",
       "7039       0      72          103.20                      0.0   \n",
       "7040       0      11           29.60                      1.0   \n",
       "7041       1       4           74.40                      1.0   \n",
       "7042       1      66          105.65                      0.0   \n",
       "\n",
       "      Contract_One year  Contract_Two year  \n",
       "0                   0.0                0.0  \n",
       "1                   1.0                0.0  \n",
       "2                   0.0                0.0  \n",
       "3                   1.0                0.0  \n",
       "4                   0.0                0.0  \n",
       "...                 ...                ...  \n",
       "7038                1.0                0.0  \n",
       "7039                1.0                0.0  \n",
       "7040                0.0                0.0  \n",
       "7041                0.0                0.0  \n",
       "7042                0.0                1.0  \n",
       "\n",
       "[7043 rows x 6 columns]"
      ]
     },
     "execution_count": 24,
     "metadata": {},
     "output_type": "execute_result"
    }
   ],
   "source": [
    "## Step 4: Apply OHE to nominal categorical Features\n",
    "from sklearn.preprocessing import OneHotEncoder\n",
    "encoder=OneHotEncoder()\n",
    "new_data=pd.DataFrame(encoder.fit_transform(data[['Contract']]).toarray(),columns=encoder.get_feature_names_out())\n",
    "data=pd.concat([data,new_data],axis=1,)\n",
    "data.drop('Contract',axis=1,inplace=True)\n",
    "data"
   ]
  }
 ],
 "metadata": {
  "kernelspec": {
   "display_name": "Python 3",
   "language": "python",
   "name": "python3"
  },
  "language_info": {
   "codemirror_mode": {
    "name": "ipython",
    "version": 3
   },
   "file_extension": ".py",
   "mimetype": "text/x-python",
   "name": "python",
   "nbconvert_exporter": "python",
   "pygments_lexer": "ipython3",
   "version": "3.12.1"
  }
 },
 "nbformat": 4,
 "nbformat_minor": 2
}
