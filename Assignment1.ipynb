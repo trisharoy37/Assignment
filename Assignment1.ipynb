{
 "cells": [
  {
   "cell_type": "markdown",
   "id": "0c9221fc",
   "metadata": {},
   "source": [
    "Q1 i)"
   ]
  },
  {
   "cell_type": "code",
   "execution_count": 1,
   "id": "8171060a",
   "metadata": {},
   "outputs": [],
   "source": [
    "a=\"Trisha\""
   ]
  },
  {
   "cell_type": "markdown",
   "id": "e2fb89af",
   "metadata": {},
   "source": [
    "ii)"
   ]
  },
  {
   "cell_type": "code",
   "execution_count": 2,
   "id": "c2587668",
   "metadata": {},
   "outputs": [],
   "source": [
    "b=[1,2,3,4,5]"
   ]
  },
  {
   "cell_type": "markdown",
   "id": "8544857d",
   "metadata": {},
   "source": [
    "iii)"
   ]
  },
  {
   "cell_type": "code",
   "execution_count": 3,
   "id": "0913fd89",
   "metadata": {},
   "outputs": [],
   "source": [
    "c=12.34"
   ]
  },
  {
   "cell_type": "markdown",
   "id": "04c3b5aa",
   "metadata": {},
   "source": [
    "iv)"
   ]
  },
  {
   "cell_type": "code",
   "execution_count": 4,
   "id": "cd7bbe6f",
   "metadata": {},
   "outputs": [],
   "source": [
    "r=(1,2,3,4,5)"
   ]
  },
  {
   "cell_type": "markdown",
   "id": "59fd8213",
   "metadata": {},
   "source": [
    "Q2\n",
    "i)string\n",
    "ii)string\n",
    "iii)list\n",
    "iv)float"
   ]
  },
  {
   "cell_type": "markdown",
   "id": "4121a088",
   "metadata": {},
   "source": [
    "Q4"
   ]
  },
  {
   "cell_type": "code",
   "execution_count": 6,
   "id": "3e71e471",
   "metadata": {},
   "outputs": [
    {
     "name": "stdout",
     "output_type": "stream",
     "text": [
      "Enter a no. whose divisibility needs to be checked100\n",
      "Enter a no. using which you want to do the same2\n",
      "yes for 1 time\n",
      "yes for 2 time\n",
      "not possible\n"
     ]
    }
   ],
   "source": [
    "a=int(input(\"Enter a no. whose divisibility needs to be checked\"))\n",
    "b=int(input(\"Enter a no. using which you want to do the same\"))\n",
    "i=1\n",
    "while(a!=0):\n",
    "    if(a%b==0):\n",
    "        print(\"yes for\",i,\"time\")\n",
    "        a=a/b\n",
    "\n",
    "    else:\n",
    "        print(\"not possible\")\n",
    "        break\n",
    "    i+=1\n"
   ]
  },
  {
   "cell_type": "markdown",
   "id": "354508af",
   "metadata": {},
   "source": [
    "/ is use for division where it will provide us quotient"
   ]
  },
  {
   "cell_type": "code",
   "execution_count": 12,
   "id": "4aea09bc",
   "metadata": {},
   "outputs": [
    {
     "data": {
      "text/plain": [
       "5.0"
      ]
     },
     "execution_count": 12,
     "metadata": {},
     "output_type": "execute_result"
    }
   ],
   "source": [
    "10/2"
   ]
  },
  {
   "cell_type": "markdown",
   "id": "8a307024",
   "metadata": {},
   "source": [
    "% this operator will return the remainder after the division of the no."
   ]
  },
  {
   "cell_type": "code",
   "execution_count": 13,
   "id": "cd795902",
   "metadata": {},
   "outputs": [
    {
     "data": {
      "text/plain": [
       "1"
      ]
     },
     "execution_count": 13,
     "metadata": {},
     "output_type": "execute_result"
    }
   ],
   "source": [
    "10%3"
   ]
  },
  {
   "cell_type": "markdown",
   "id": "59b0c968",
   "metadata": {},
   "source": [
    "// it is known as floor division if the quotient is in decimal it will return the nearest small integer no."
   ]
  },
  {
   "cell_type": "code",
   "execution_count": 14,
   "id": "9a51a3d0",
   "metadata": {},
   "outputs": [
    {
     "data": {
      "text/plain": [
       "3"
      ]
     },
     "execution_count": 14,
     "metadata": {},
     "output_type": "execute_result"
    }
   ],
   "source": [
    "10//3"
   ]
  },
  {
   "cell_type": "markdown",
   "id": "bbb1b686",
   "metadata": {},
   "source": [
    "** is used as raise to the power which will multiply the no. by itself the no. of times which was specified by the user"
   ]
  },
  {
   "cell_type": "code",
   "execution_count": 15,
   "id": "fe1bf5af",
   "metadata": {},
   "outputs": [
    {
     "data": {
      "text/plain": [
       "8"
      ]
     },
     "execution_count": 15,
     "metadata": {},
     "output_type": "execute_result"
    }
   ],
   "source": [
    "2**3"
   ]
  },
  {
   "cell_type": "markdown",
   "id": "fb5257bf",
   "metadata": {},
   "source": [
    "Q6. "
   ]
  },
  {
   "cell_type": "code",
   "execution_count": 7,
   "id": "fb571417",
   "metadata": {},
   "outputs": [
    {
     "name": "stdout",
     "output_type": "stream",
     "text": [
      "1 is not divisible by 3\n",
      "2 is not divisible by 3\n",
      "3 is divisible by 3\n",
      "4 is not divisible by 3\n",
      "5 is not divisible by 3\n",
      "6 is divisible by 3\n",
      "7 is not divisible by 3\n",
      "8 is not divisible by 3\n",
      "9 is divisible by 3\n",
      "10 is not divisible by 3\n",
      "11 is not divisible by 3\n",
      "12 is divisible by 3\n",
      "13 is not divisible by 3\n",
      "14 is not divisible by 3\n",
      "15 is divisible by 3\n",
      "16 is not divisible by 3\n",
      "17 is not divisible by 3\n",
      "18 is divisible by 3\n",
      "19 is not divisible by 3\n",
      "20 is not divisible by 3\n",
      "21 is divisible by 3\n",
      "22 is not divisible by 3\n",
      "23 is not divisible by 3\n",
      "24 is divisible by 3\n",
      "25 is not divisible by 3\n"
     ]
    }
   ],
   "source": [
    "k=list(range(1,26))\n",
    "for i in k:\n",
    "    if(i%3==0):\n",
    "        print(i,\"is divisible by 3\")\n",
    "    else:\n",
    "        print(i,\"is not divisible by 3\")"
   ]
  },
  {
   "cell_type": "markdown",
   "id": "45581801",
   "metadata": {},
   "source": [
    "Q7.a datatype is said to be mutable if we can change the element of a data at their index position and if the don't perform this quality they are said to be immutable.\n",
    "for example tuples and strings are immutable whereas list are mutable."
   ]
  },
  {
   "cell_type": "code",
   "execution_count": 8,
   "id": "971b377f",
   "metadata": {},
   "outputs": [
    {
     "ename": "TypeError",
     "evalue": "'str' object does not support item assignment",
     "output_type": "error",
     "traceback": [
      "\u001b[1;31m---------------------------------------------------------------------------\u001b[0m",
      "\u001b[1;31mTypeError\u001b[0m                                 Traceback (most recent call last)",
      "\u001b[1;32mC:\\Users\\TRISHA~1\\AppData\\Local\\Temp/ipykernel_19216/3014243171.py\u001b[0m in \u001b[0;36m<module>\u001b[1;34m\u001b[0m\n\u001b[0;32m      1\u001b[0m \u001b[0mx\u001b[0m\u001b[1;33m=\u001b[0m\u001b[1;34m\"Trisha\"\u001b[0m\u001b[1;33m\u001b[0m\u001b[1;33m\u001b[0m\u001b[0m\n\u001b[1;32m----> 2\u001b[1;33m \u001b[0mx\u001b[0m\u001b[1;33m[\u001b[0m\u001b[1;36m0\u001b[0m\u001b[1;33m]\u001b[0m\u001b[1;33m=\u001b[0m\u001b[1;34m\"uu\"\u001b[0m\u001b[1;33m\u001b[0m\u001b[1;33m\u001b[0m\u001b[0m\n\u001b[0m",
      "\u001b[1;31mTypeError\u001b[0m: 'str' object does not support item assignment"
     ]
    }
   ],
   "source": [
    "x=\"Trisha\"\n",
    "x[0]=\"uu\""
   ]
  },
  {
   "cell_type": "code",
   "execution_count": 9,
   "id": "4af6f927",
   "metadata": {},
   "outputs": [
    {
     "ename": "TypeError",
     "evalue": "'tuple' object does not support item assignment",
     "output_type": "error",
     "traceback": [
      "\u001b[1;31m---------------------------------------------------------------------------\u001b[0m",
      "\u001b[1;31mTypeError\u001b[0m                                 Traceback (most recent call last)",
      "\u001b[1;32mC:\\Users\\TRISHA~1\\AppData\\Local\\Temp/ipykernel_19216/2849988551.py\u001b[0m in \u001b[0;36m<module>\u001b[1;34m\u001b[0m\n\u001b[0;32m      1\u001b[0m \u001b[0my\u001b[0m\u001b[1;33m=\u001b[0m\u001b[1;33m(\u001b[0m\u001b[1;36m1\u001b[0m\u001b[1;33m,\u001b[0m\u001b[1;36m2\u001b[0m\u001b[1;33m,\u001b[0m\u001b[1;36m3\u001b[0m\u001b[1;33m,\u001b[0m\u001b[1;36m4\u001b[0m\u001b[1;33m,\u001b[0m\u001b[1;36m5\u001b[0m\u001b[1;33m)\u001b[0m\u001b[1;33m\u001b[0m\u001b[1;33m\u001b[0m\u001b[0m\n\u001b[1;32m----> 2\u001b[1;33m \u001b[0my\u001b[0m\u001b[1;33m[\u001b[0m\u001b[1;36m0\u001b[0m\u001b[1;33m]\u001b[0m\u001b[1;33m=\u001b[0m\u001b[1;36m56\u001b[0m\u001b[1;33m\u001b[0m\u001b[1;33m\u001b[0m\u001b[0m\n\u001b[0m",
      "\u001b[1;31mTypeError\u001b[0m: 'tuple' object does not support item assignment"
     ]
    }
   ],
   "source": [
    "y=(1,2,3,4,5)\n",
    "y[0]=56"
   ]
  },
  {
   "cell_type": "code",
   "execution_count": 11,
   "id": "f401b761",
   "metadata": {},
   "outputs": [
    {
     "data": {
      "text/plain": [
       "[99, 2, 3, 4, 5]"
      ]
     },
     "execution_count": 11,
     "metadata": {},
     "output_type": "execute_result"
    }
   ],
   "source": [
    "z=[1,2,3,4,5]\n",
    "z[0]=99\n",
    "z"
   ]
  }
 ],
 "metadata": {
  "kernelspec": {
   "display_name": "Python 3 (ipykernel)",
   "language": "python",
   "name": "python3"
  },
  "language_info": {
   "codemirror_mode": {
    "name": "ipython",
    "version": 3
   },
   "file_extension": ".py",
   "mimetype": "text/x-python",
   "name": "python",
   "nbconvert_exporter": "python",
   "pygments_lexer": "ipython3",
   "version": "3.8.12"
  }
 },
 "nbformat": 4,
 "nbformat_minor": 5
}
