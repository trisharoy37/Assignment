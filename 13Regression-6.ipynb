{
 "cells": [
  {
   "cell_type": "markdown",
   "metadata": {},
   "source": [
    "Q1. What are the key steps involved in building an end-to-end web application, from development to deployment on the cloud?\n",
    "\n",
    "Ans: The key steps that are involved in building an end to end web application, from development to deployment on the cloud are:\n",
    "- Data Collection\n",
    "- Exploratory Data Analysis\n",
    "- Feature Engineering\n",
    "- Model TRAIN\n",
    "- Web Application\n",
    "- Deployment on cloud"
   ]
  },
  {
   "cell_type": "markdown",
   "metadata": {
    "vscode": {
     "languageId": "plaintext"
    }
   },
   "source": [
    "Q2. Explain the difference between traditional web hosting and cloud hosting.\n",
    "\n",
    "Ans:\n",
    "The core difference between traditional web hosting and cloud hosting lies in the underlying infrastructure and how resources are allocated:   \n",
    "\n",
    "**Traditional Web Hosting:**\n",
    "\n",
    "- Single Server Dependency: Your website resides on a single physical server. This server has a fixed amount of resources (CPU, RAM, storage).   \n",
    "- Resource Limitations: If your website experiences a surge in traffic, the single server might become overloaded, leading to slow loading times or even downtime. Scaling resources often requires manual intervention or migrating to a more powerful server.   \n",
    "- Location Dependency: The server is located in a specific physical location. This can impact website loading speeds for users who are geographically distant from the server.   \n",
    "- Maintenance Responsibility: You (or your hosting provider) are often responsible for server maintenance, including hardware upgrades, software updates, and security patching.   \n",
    "- Cost Structure: Typically involves fixed monthly or annual fees, regardless of actual resource usage\n",
    "\n",
    "**Cloud Hosting:**\n",
    "\n",
    "- Network of Virtual Servers: Your website is hosted on a network of interconnected virtual servers. Resources are pulled from this network, providing greater flexibility and redundancy.   \n",
    "- Scalability and Elasticity: Resources can be scaled up or down on demand, automatically or manually, to handle traffic fluctuations. This ensures consistent performance even during peak times.   \n",
    "- Redundancy and Reliability: Data is often mirrored across multiple servers, minimizing the risk of data loss due to hardware failures. If one server goes down, others can take over seamlessly.   \n",
    "- Global Reach: Cloud providers have data centers around the world. You can choose to host your website in multiple locations to improve loading speeds for users globally.   \n",
    "- Managed Infrastructure: The cloud provider handles most of the infrastructure management, including hardware maintenance, security, and updates.   \n",
    "- Cost Structure: Often uses a pay-as-you-go model, where you only pay for the resources you consume.   \n"
   ]
  },
  {
   "cell_type": "markdown",
   "metadata": {},
   "source": [
    "Q3. How do you choose the right cloud provider for your application deployment, and what factors\n",
    "should you consider?\n",
    "\n",
    "Ans: Choosing the right cloud provider is crucial for successful application deployment.\n",
    "- Service Offered\n",
    "- Pricing\n",
    "- Scalability and Performance\n",
    "- Reliability and Availability\n",
    "- Security\n",
    "- Geographic Reach\n",
    "- Support and Documentation\n",
    "- Integration and Compatibility\n",
    "- Vendor Lock-in"
   ]
  },
  {
   "cell_type": "markdown",
   "metadata": {},
   "source": [
    "Q4. How do you design and build a responsive user interface for your web application, and what are some best practices to follow? \n",
    "\n",
    "Ans: - \n",
    "1. HTML Structure (Flask Templates)\n",
    "2. CSS(Crucial)\n",
    "3. JavaScript (Optional)\n",
    "\n",
    "Best Practices:\n",
    "- Mobile-first\n",
    "- Test on various devices\n",
    "- Keep it simple\n",
    "- Accessibility\n",
    "- Performance optimization"
   ]
  },
  {
   "cell_type": "markdown",
   "metadata": {},
   "source": [
    "Q5. How do you integrate the machine learning model with the user interface for the Algerian Forest Fires project(which we discussed in class), and what APIs or libraries can you use for this purpose?\n",
    "\n",
    "Ans:\n",
    "To integrate the machine learning model with the user interface for the Algerian Forest Fires project we did:\n",
    "- Model and Scaler Loading\n",
    "- Home Page Routing and Prediction Routing\n",
    "- Data Preprocessing and Prediction\n",
    "- Resulting Diaplay\n",
    "\n",
    "The API or libraries used for this purpose are:\n",
    "- Flask\n",
    "- Pickle\n",
    "- Scikit-learn\n",
    "- Numpy \n",
    "- Pandas"
   ]
  },
  {
   "cell_type": "code",
   "execution_count": 10,
   "metadata": {},
   "outputs": [
    {
     "data": {
      "text/plain": [
       "3"
      ]
     },
     "execution_count": 10,
     "metadata": {},
     "output_type": "execute_result"
    }
   ],
   "source": []
  },
  {
   "cell_type": "code",
   "execution_count": 30,
   "metadata": {},
   "outputs": [
    {
     "name": "stdout",
     "output_type": "stream",
     "text": [
      "[[1, 2, 3], [4, 5, 6], [7, 8, 9]]\n",
      "[[7, 4, 1], [8, 5, 2], [9, 6, 3]]\n"
     ]
    }
   ],
   "source": [
    "L=[[1,2,3],[4,5,6],[7,8,9]]\n",
    "print(L)\n",
    "x=len(L)\n",
    "for i in range(x,0,-1):\n",
    "    for j in range(i):\n",
    "        if(j!=(i-1)):\n",
    "            temp=L[j][i-1]\n",
    "            L[j][i-1]=L[i-1][j]\n",
    "            L[i-1][j]=temp\n",
    "        else:\n",
    "            pass\n",
    "    for k in range(int(x/2)):\n",
    "        m=x-i\n",
    "        temp=L[m][k]\n",
    "        L[m][k]=L[m][x-1-k]\n",
    "        L[m][x-1-k]=temp\n",
    "print(L)"
   ]
  },
  {
   "cell_type": "code",
   "execution_count": 53,
   "metadata": {},
   "outputs": [
    {
     "name": "stdout",
     "output_type": "stream",
     "text": [
      "the answer\n",
      "[[15, 13, 2, 5], [14, 3, 4, 1], [12, 6, 8, 9], [16, 7, 10, 11]]\n"
     ]
    }
   ],
   "source": [
    "L=[[5,1,9,11],[2,4,8,10],[13,3,6,7],[15,14,12,16]]\n",
    "\n",
    "x=len(L)\n",
    "for i in range(x,0,-1):\n",
    "    for j in range(i):\n",
    "        if(j!=(i-1)):\n",
    "            temp=L[j][i-1]\n",
    "            L[j][i-1]=L[i-1][j]\n",
    "            L[i-1][j]=temp\n",
    "        else:\n",
    "            pass\n",
    "    for k in range(int(x/2)):\n",
    "        m=i-1\n",
    "        temp=L[m][k]\n",
    "        L[m][k]=L[m][x-1-k]\n",
    "        L[m][x-1-k]=temp\n",
    "print(\"the answer\")\n",
    "print(L)\n",
    "\n"
   ]
  },
  {
   "cell_type": "code",
   "execution_count": 16,
   "metadata": {},
   "outputs": [
    {
     "name": "stdout",
     "output_type": "stream",
     "text": [
      "[[1, 2, 3], [3, 4, 5], [6, 7, 8]]\n",
      "0 2\n",
      "1 2\n",
      "\n",
      "\n",
      "0 1\n",
      "\n",
      "\n",
      "\n",
      "\n"
     ]
    }
   ],
   "source": [
    "L=[[1,2,3],[3,4,5],[6,7,8]]\n",
    "print(L)\n",
    "x=len(L)\n",
    "for i in range(x,0,-1):\n",
    "    for j in range(i):\n",
    "        if(j!=(i-1)):\n",
    "            print(j,i-1)\n",
    "        else:\n",
    "            pass\n",
    "    \n",
    "for "
   ]
  },
  {
   "cell_type": "code",
   "execution_count": 34,
   "metadata": {},
   "outputs": [
    {
     "name": "stdout",
     "output_type": "stream",
     "text": [
      "[[11, 10, 7, 16], [1, 4, 3, 14], [9, 8, 6, 12], [5, 2, 13, 15]]\n"
     ]
    }
   ],
   "source": [
    "l=[[5, 2, 13, 15], [1, 4, 3, 14], [9, 8, 6, 12], [11, 10, 7, 16]]\n",
    "x=len(l)-1\n",
    "mid=int(x/2)\n",
    "for i in range(mid):\n",
    "    temp=l[i]\n",
    "    l[i]=l[x-i]\n",
    "    l[x-i]=temp\n",
    "print(l)\n",
    "\n"
   ]
  },
  {
   "cell_type": "code",
   "execution_count": 36,
   "metadata": {},
   "outputs": [
    {
     "name": "stdout",
     "output_type": "stream",
     "text": [
      "[[15, 13, 2, 5], [14, 3, 4, 1], [12, 6, 8, 9], [16, 7, 10, 11]]\n"
     ]
    }
   ],
   "source": [
    "L=[[5, 2, 13, 15], [1, 4, 3, 14], [9, 8, 6, 12], [11, 10, 7, 16]]\n",
    "x=len(L)\n",
    "for i in range(x,0,-1):\n",
    "    for k in range(int(x/2)):\n",
    "        m=x-i\n",
    "        temp=L[m][k]\n",
    "        L[m][k]=L[m][x-1-k]\n",
    "        L[m][x-1-k]=temp\n",
    "print(L)"
   ]
  },
  {
   "cell_type": "code",
   "execution_count": 22,
   "metadata": {},
   "outputs": [
    {
     "data": {
      "text/plain": [
       "2"
      ]
     },
     "execution_count": 22,
     "metadata": {},
     "output_type": "execute_result"
    }
   ],
   "source": [
    "import math\n",
    "math.floor(5/2)"
   ]
  }
 ],
 "metadata": {
  "kernelspec": {
   "display_name": "Python 3",
   "language": "python",
   "name": "python3"
  },
  "language_info": {
   "codemirror_mode": {
    "name": "ipython",
    "version": 3
   },
   "file_extension": ".py",
   "mimetype": "text/x-python",
   "name": "python",
   "nbconvert_exporter": "python",
   "pygments_lexer": "ipython3",
   "version": "3.12.1"
  }
 },
 "nbformat": 4,
 "nbformat_minor": 2
}
