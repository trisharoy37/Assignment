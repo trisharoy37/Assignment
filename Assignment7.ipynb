{
 "cells": [
  {
   "cell_type": "markdown",
   "id": "78e46f33",
   "metadata": {},
   "source": [
    "Abstraction is one of the pillar of OOPs that focuses on hiding the internal implementation details of an object and exposing only the essential information or functionality to the external world."
   ]
  },
  {
   "cell_type": "code",
   "execution_count": 8,
   "id": "82e4cf32",
   "metadata": {},
   "outputs": [
    {
     "ename": "AttributeError",
     "evalue": "'A' object has no attribute 'x'",
     "output_type": "error",
     "traceback": [
      "\u001b[1;31m---------------------------------------------------------------------------\u001b[0m",
      "\u001b[1;31mAttributeError\u001b[0m                            Traceback (most recent call last)",
      "Cell \u001b[1;32mIn[8], line 14\u001b[0m\n\u001b[0;32m     12\u001b[0m             \u001b[38;5;28mself\u001b[39m\u001b[38;5;241m.\u001b[39m__x\u001b[38;5;241m=\u001b[39mx\n\u001b[0;32m     13\u001b[0m obj1\u001b[38;5;241m=\u001b[39mA(\u001b[38;5;241m9\u001b[39m,\u001b[38;5;241m10\u001b[39m)\n\u001b[1;32m---> 14\u001b[0m \u001b[38;5;28mprint\u001b[39m(\u001b[43mobj1\u001b[49m\u001b[38;5;241;43m.\u001b[39;49m\u001b[43mx\u001b[49m)\n",
      "\u001b[1;31mAttributeError\u001b[0m: 'A' object has no attribute 'x'"
     ]
    }
   ],
   "source": [
    "#Example\n",
    "class A:\n",
    "    def __init__(self,x,y):\n",
    "        self.__x=x\n",
    "        self.__y=y\n",
    "    def disp(self):\n",
    "        print(self.__x,self.__y)\n",
    "    def change_x(self,x):\n",
    "        if(x<10 and x>100):\n",
    "            pass\n",
    "        else:\n",
    "            self.__x=x\n",
    "obj1=A(9,10)\n",
    "print(obj1.x)"
   ]
  },
  {
   "cell_type": "code",
   "execution_count": 9,
   "id": "0186b8e6",
   "metadata": {},
   "outputs": [
    {
     "name": "stdout",
     "output_type": "stream",
     "text": [
      "9 10\n",
      "14 10\n"
     ]
    }
   ],
   "source": [
    "obj1.disp()\n",
    "obj1.change_x(14)\n",
    "obj1.disp()"
   ]
  },
  {
   "cell_type": "markdown",
   "id": "e51d245d",
   "metadata": {},
   "source": [
    "Abstraction refers to hiding of hiding of internal implementation whereas encapsulation refers to binding of data and methods within a single entity."
   ]
  },
  {
   "cell_type": "code",
   "execution_count": 10,
   "id": "749bf0a8",
   "metadata": {},
   "outputs": [],
   "source": [
    "#Example\n",
    "class A:\n",
    "    def __init__(self,x,y):\n",
    "        self.__x=x\n",
    "        self.__y=y\n",
    "    def disp(self):\n",
    "        print(self.__x,self.__y)\n",
    "    def change_x(self,x):\n",
    "        if(x<10 and x>100):\n",
    "            pass\n",
    "        else:\n",
    "            self.__x=x\n",
    "#here we have used both abstraction and encapsulation"
   ]
  },
  {
   "cell_type": "markdown",
   "id": "e991d16c",
   "metadata": {},
   "source": [
    "The abc module in Python stands for \"Abstract Base Classes\". It helps in defining base classes in python. "
   ]
  },
  {
   "cell_type": "code",
   "execution_count": 14,
   "id": "b8a1d956",
   "metadata": {},
   "outputs": [
    {
     "name": "stdout",
     "output_type": "stream",
     "text": [
      "45 9\n",
      "Hello\n"
     ]
    }
   ],
   "source": [
    "import abc\n",
    "#Example\n",
    "class A:\n",
    "    @abc.abstractmethod\n",
    "    def func(self):\n",
    "        pass\n",
    "class B(A):\n",
    "    def func(self,x,y):\n",
    "        print(x,y)\n",
    "class C(A):\n",
    "    def func(self):\n",
    "        print(\"Hello\")\n",
    "obj1=B()\n",
    "obj1.func(45,9)\n",
    "obj2=C()\n",
    "obj2.func()"
   ]
  },
  {
   "cell_type": "markdown",
   "id": "96c849db",
   "metadata": {},
   "source": [
    "Data abstraction can be achieved using __ before the variable name as we have performed in question no.1"
   ]
  },
  {
   "cell_type": "markdown",
   "id": "91f9b55c",
   "metadata": {},
   "source": [
    "No we cannot create an instance of an abstract class as abstract class are used to provide a base or blueprint to other classes to inherit from. They are designed to be partially implemented and contain one or more abstract methods that must be overridden by the derived classes. "
   ]
  }
 ],
 "metadata": {
  "kernelspec": {
   "display_name": "Python 3 (ipykernel)",
   "language": "python",
   "name": "python3"
  },
  "language_info": {
   "codemirror_mode": {
    "name": "ipython",
    "version": 3
   },
   "file_extension": ".py",
   "mimetype": "text/x-python",
   "name": "python",
   "nbconvert_exporter": "python",
   "pygments_lexer": "ipython3",
   "version": "3.8.12"
  }
 },
 "nbformat": 4,
 "nbformat_minor": 5
}
