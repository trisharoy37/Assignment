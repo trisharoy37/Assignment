{
 "cells": [
  {
   "cell_type": "markdown",
   "metadata": {},
   "source": [
    "Q1. Explain the following with an example:\n",
    "**1. Artificial Intelligence:**\n",
    "\n",
    "     AI refers to the simulation of human intelligence in machines that are programmed to mimic human actions and cognitive functions such as learning, problem-solving, and decision-making. For example, AI can be used in virtual assistants like Siri or Alexa to understand and respond to voice commands, or in self-driving cars to perceive their environment and make driving decisions.\n",
    "\n",
    "**2. Machine Learning:**\n",
    "\n",
    "    Machine Learning (ML): Machine learning is a subset of AI that focuses on the development of algorithms that enable computers to learn from and make predictions or decisions based on data, without being explicitly programmed to do so. For example, a spam email filter learns to distinguish between spam and non-spam emails by analyzing patterns in email content and user actions.\n",
    "    \n",
    "**3. Deep Learning:**\n",
    "\n",
    "    Deep learning is a subfield of machine learning that utilizes artificial neural networks with multiple layers (hence \"deep\") to learn intricate patterns in large amounts of data. Deep learning has been particularly successful in tasks such as image and speech recognition. For example, deep learning is used in facial recognition technology to accurately identify faces in photos or videos."
   ]
  },
  {
   "cell_type": "markdown",
   "metadata": {},
   "source": [
    "Q2: What is supervised learning? List some examples of supervised learning.\n",
    "\n",
    "Supervised learning is a type of machine learning where the algorithm learns from labeled data, meaning it is trained on a dataset that contains input-output pairs. The algorithm learns to map input data to the correct output label based on the examples provided during the training process.\n",
    "\n",
    "For example: Classification and Regression"
   ]
  },
  {
   "cell_type": "markdown",
   "metadata": {},
   "source": [
    "Q3: What is unsupervised learning? List some examples of unsupervised learning.\n",
    "\n",
    "\n",
    "Unsupervised learning is a type of machine learning where the algorithm learns patterns from unlabeled data, without explicit supervision or guidance. The goal is to find hidden structures or relationships within the data.\n",
    "\n",
    "Foe example: Clustering, Dimensionality Reduction, Anomaly Detection"
   ]
  },
  {
   "cell_type": "markdown",
   "metadata": {},
   "source": [
    "Q4: What is the difference between AI, ML, DL and DS?\n",
    "\n",
    "AI is the overarching concept of creating intelligent systems, ML is a subset of AI focused on learning from data, DL is a subset of ML utilizing neural networks with multiple layers, and DS involves extracting insights and value from data through various techniques and methodologies."
   ]
  },
  {
   "cell_type": "markdown",
   "metadata": {},
   "source": [
    "Q5: What are the main differences between supervised, unsupervised, and semi-supervised learning?\n",
    "\n",
    "Supervised learning relies on labeled data with predefined target outputs, unsupervised learning deals with unlabeled data to discover patterns or structures, and semi-supervised learning leverages both labeled and unlabeled data to improve model performance, especially when labeled data is scarce."
   ]
  },
  {
   "cell_type": "markdown",
   "metadata": {},
   "source": [
    "Q6: What is train, test and validation split? Explain the importance of each term.\n",
    "\n",
    "**Training Set:**\n",
    "\n",
    "The training set is a subset of the dataset used to train the machine learning model. It contains examples with both input features and their corresponding target outputs.\n",
    "\n",
    "*Importance:* The training set is crucial for the model to learn the underlying patterns and relationships between input features and target outputs. By exposing the model to diverse examples during training, it can adjust its parameters to minimize prediction errors.\n",
    "\n",
    "**Test Set:**\n",
    "\n",
    "The test set is a separate subset of the dataset that is not used during model training. It consists of examples with input features and their corresponding target outputs, just like the training set.\n",
    "\n",
    "*Importance:* The test set is used to evaluate the performance of the trained model on unseen data. By assessing the model's performance on data it hasn't seen before, we can estimate how well it generalizes to new, unseen examples. This helps to detect overfitting (when the model performs well on the training data but poorly on new data).\n",
    "\n",
    "**Validation Set:**\n",
    "\n",
    "The validation set is another subset of the dataset that is used to fine-tune model hyperparameters and assess model performance during training.\n",
    "\n",
    "*Importance:* The validation set helps in optimizing the model's performance by providing a separate dataset for tuning hyperparameters such as learning rate, regularization strength, or model architecture. By evaluating the model's performance on the validation set, we can make adjustments to improve generalization performance before final evaluation on the test set."
   ]
  },
  {
   "cell_type": "markdown",
   "metadata": {},
   "source": [
    "Q7: How can unsupervised learning be used in anomaly detection?\n",
    "\n",
    "Unsupervised learning can be used in anomaly detection by allowing algorithms to identify patterns or structures within data without the need for labeled examples of anomalies. Here's how unsupervised learning techniques can be applied:"
   ]
  },
  {
   "cell_type": "markdown",
   "metadata": {},
   "source": [
    "Q8: List down some commonly used supervised learning algorithms and unsupervised learning algorithms.\n",
    "\n",
    "**Supervised Learning Algorithms:**\n",
    "\n",
    "    1. Linear Regression\n",
    "    2. Logistic Regression\n",
    "    3. Decision Trees\n",
    "    4. Random Forest\n",
    "    5. Support Vector Machines(SVM)\n",
    "\n",
    "**Unsupervised Learning Algorithms:**\n",
    "\n",
    "    1. K-means Clustering\n",
    "    2. Hierarchical Clustering\n",
    "    3. Autoencoders"
   ]
  }
 ],
 "metadata": {
  "kernelspec": {
   "display_name": "Python 3",
   "language": "python",
   "name": "python3"
  },
  "language_info": {
   "codemirror_mode": {
    "name": "ipython",
    "version": 3
   },
   "file_extension": ".py",
   "mimetype": "text/x-python",
   "name": "python",
   "nbconvert_exporter": "python",
   "pygments_lexer": "ipython3",
   "version": "3.12.1"
  }
 },
 "nbformat": 4,
 "nbformat_minor": 2
}
