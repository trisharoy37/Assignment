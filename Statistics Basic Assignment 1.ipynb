{
 "cells": [
  {
   "cell_type": "markdown",
   "id": "2ef34fc0",
   "metadata": {},
   "source": [
    "Q1. What is Statistics?\n",
    "\n",
    "Statistics is the science of collecting organizing and analyzing data."
   ]
  },
  {
   "cell_type": "markdown",
   "id": "20c80337",
   "metadata": {},
   "source": [
    "Q2. Define the different types of statistics and give an example of when each type might be used.\n",
    "\n",
    "There are two types of statistics \n",
    "1. Desciptive Statistics- It consists of organizing and summarising data. For example: Measure of central Tendency, Measure of Dispersion\n",
    "\n",
    "2. Inferential Statistics- It consists of using data you have measured to form conclusion. For example: Clustering, Classification"
   ]
  },
  {
   "cell_type": "markdown",
   "id": "9777e369",
   "metadata": {},
   "source": [
    "Q3. What are the different types of data and how do they differ from each other? Provide an example of\n",
    "each type of data.\n",
    "\n",
    "There are two different types of Data:\n",
    "1. Quantitative: That is numerical data:\n",
    "\n",
    "    a. Discrete: Whole number, for example: No. of students in class.\n",
    "    \n",
    "    b. Continuous: for example: Weight\n",
    "\n",
    "\n",
    "2. Qualitative: It is also known as categorical data:\n",
    "\n",
    "    a. Nominal: For example: Gender,Blood Group\n",
    "    \n",
    "    b. Ordinal: For example: Customers feedback: good, better, best"
   ]
  },
  {
   "cell_type": "markdown",
   "id": "e1e7747c",
   "metadata": {},
   "source": [
    "Q4. Categorise the following datasets with respect to quantitative and qualitative data types:\n",
    "    \n",
    "    i) Grading in exam: A+, A,B+,B,C+,C,D,E Qualitative\n",
    "    \n",
    "    ii) Colour of mangoes: yellow, green, orange, red:Qualitative\n",
    "\n",
    "    iii) Heighht data of a class: [178.9,179,179.5,176,177.2,178.3,175.8,...] : Quantitative\n",
    "    \n",
    "    iv) Number of mangoes exported by a farm: [500,600,478,672,...] Quantitative\n",
    "    "
   ]
  },
  {
   "cell_type": "markdown",
   "id": "e285d16e",
   "metadata": {},
   "source": [
    "Q5. Explain the concept of levels of measurement and give an example of a variable for each level.\n",
    "\n",
    "The concept of levels of measurement refers to the different ways that variables can be measured and categorized. Understanding these levels is crucial for choosing the appropriate statistical analysis. There are four levels of measurement:\n",
    "\n",
    "    1. Nominal Level\n",
    "    Description: Nominal measurement involves categorizing data without any order or ranking. The categories are mutually exclusive and exhaustive, meaning each observation fits into one and only one category.\n",
    "    Example: Gender (male, female, non-binary, other). In this case, there is no inherent order to the categories.\n",
    "    \n",
    "    2. Ordinal Level\n",
    "    Description: Ordinal measurement involves categorizing data with a meaningful order or ranking between the categories. However, the differences between the categories are not uniform or measurable.\n",
    "    Example: Grading in exams (A+, A, B+, B, C+, C, D, E). The grades have a specific order, but the difference between each grade is not quantifiable.\n",
    "    \n",
    "    3. Interval Level\n",
    "    Description: Interval measurement involves numerical data with meaningful intervals between measurements, but no true zero point. This means you can measure the difference between values, but ratios are not meaningful.\n",
    "    Example: Temperature in Celsius or Fahrenheit. The difference between 20°C and 30°C is the same as the difference between 30°C and 40°C, but there is no true zero point where no temperature exists.\n",
    "    \n",
    "    4. Ratio Level\n",
    "    Description: Ratio measurement involves numerical data with a true zero point, meaning both differences and ratios are meaningful. This level provides the most information about the variable.\n",
    "    Example: Height. A height of 180 cm is twice as tall as 90 cm, and a height of 0 cm means no height.\n",
    "    "
   ]
  },
  {
   "cell_type": "markdown",
   "id": "8af7ee00",
   "metadata": {},
   "source": [
    "Q6. Why is it important to understand the level of measurement when analyzing data? Provide an example to illustrate your answer.\n",
    "\n",
    "Understanding the level of measurement is crucial when analyzing data because it determines the types of statistical analyses and operations that are appropriate for the data. \n",
    "\n",
    "    Example:\n",
    "    Consider a study investigating the relationship between education levels and income levels among a group of individuals.\n",
    "\n",
    "    Level of Measurement: Education level might be categorized as ordinal data (e.g., high school diploma, bachelor's degree, master's degree, Ph.D.).\n",
    "    Income level: This could be measured as ratio data (e.g., annual income in dollars).\n",
    "    Analytical Implications:\n",
    "    Correct Analysis: Analyzing the relationship between education and income using appropriate statistical techniques for ordinal and ratio data (e.g., correlation analysis, regression analysis) would yield valid conclusions.\n",
    "    Incorrect Analysis: Treating education level as interval data and performing a t-test or treating income as ordinal data and using a chi-square test might lead to inaccurate interpretations and flawed conclusions."
   ]
  },
  {
   "cell_type": "markdown",
   "id": "c126e19c",
   "metadata": {},
   "source": [
    "Q7. How nominal data type is different from ordinal data type\n",
    "\n",
    "Nominal data represents categories without any inherent order, while ordinal data represents categories with a meaningful order or ranking. In nominal data, categories are merely labels, while in ordinal data, categories have a logical sequence."
   ]
  },
  {
   "cell_type": "markdown",
   "id": "57e02e7f",
   "metadata": {},
   "source": [
    "Q8. Which type of plot can be used to display data in terms of range?\n",
    "\n",
    "A boxplot"
   ]
  },
  {
   "cell_type": "markdown",
   "id": "eb93d58d",
   "metadata": {},
   "source": [
    "Q9. Describe the difference between descriptive and inferential statistics. Give an example of each type of statistics and explain how they are used.\n",
    "\n",
    "**Descriptive statistics** are used to summarize and describe the basic features of a dataset. They provide simple summaries about the sample or population under study. It aim to organize, summarize, and present data in a meaningful way to facilitate understanding.\n",
    "\n",
    "***Example:** Calculating measures such as mean, median, mode, range, standard deviation, and variance to describe the central tendency, variability, and distribution of a dataset.*\n",
    "\n",
    "**Inferential Statistics** making inferences and predictions about a population based on sample data. It allows researchers to draw conclusions and generalize findings from a sample to a larger population.Inferential statistics are used to test hypotheses, make predictions, and draw conclusions about the relationships between variables or the population parameters.\n",
    "\n",
    "***Example:** Conducting hypothesis tests, estimating population parameters, and constructing confidence intervals. For instance, using a t-test to determine if there is a significant difference in exam scores between two groups of students or using regression analysis to predict sales based on advertising expenditure.*\n"
   ]
  },
  {
   "cell_type": "markdown",
   "id": "3c05a667",
   "metadata": {},
   "source": [
    "Q10. What are some common measures of central tendency and variability used in statistics? Explain how each measure can be used to describe a dataset.\n",
    "\n",
    "**Measures of Central Tendency:**\n",
    "\n",
    "    i) Mean: The arithmetic average of a dataset. It is calculated by summing all values and dividing by the total number of values.\n",
    "    Use: Provides a single value that represents the typical value of the dataset. It is sensitive to outliers.\n",
    "    \n",
    "    ii) Median: The middle value in a sorted dataset. If there is an even number of values, it is the average of the two middle values.\n",
    "    Use: Represents the central value that divides the dataset into two equal halves. It is less sensitive to outliers compared to the mean.\n",
    "    \n",
    "    iii) Mode: The value that appears most frequently in a dataset.\n",
    "    Use: Identifies the most common value or category in the dataset. It is useful for categorical or ordinal data.\n",
    "\n",
    "**Measures of Variability:**\n",
    "\n",
    "    i) Range: The difference between the maximum and minimum values in a dataset.\n",
    "    Use: Provides a simple measure of the spread of data. It is sensitive to outliers.\n",
    "    \n",
    "    ii) Variance: The average of the squared differences from the mean. It quantifies the spread or dispersion of data points.\n",
    "    Use: Provides a measure of how much each value in the dataset deviates from the mean. It is not easily interpretable due to being squared.\n",
    "    \n",
    "    iii) Standard Deviation: The square root of the variance. It represents the average distance of data points from the mean.\n",
    "    Use: Provides a more interpretable measure of spread compared to variance. It indicates the typical distance of data points from the mean."
   ]
  }
 ],
 "metadata": {
  "kernelspec": {
   "display_name": "Python 3 (ipykernel)",
   "language": "python",
   "name": "python3"
  },
  "language_info": {
   "codemirror_mode": {
    "name": "ipython",
    "version": 3
   },
   "file_extension": ".py",
   "mimetype": "text/x-python",
   "name": "python",
   "nbconvert_exporter": "python",
   "pygments_lexer": "ipython3",
   "version": "3.8.12"
  }
 },
 "nbformat": 4,
 "nbformat_minor": 5
}
