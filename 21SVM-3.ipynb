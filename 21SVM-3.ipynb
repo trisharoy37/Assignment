{
 "cells": [
  {
   "cell_type": "markdown",
   "metadata": {},
   "source": [
    "**Q1. In order to predict house price based on several characteristics, such as location, square footage,\n",
    "number of bedrooms, etc., you are developing an SVM regression model. Which regression metric in this\n",
    "situation would be the best to employ?**\n",
    "\n",
    "Ans: Root Mean Squared Error (RMSE) (Recommended)\n",
    "\n",
    "Since house prices are typically large values, RMSE keeps the error measurement in the same unit as the target variable.\n",
    "More interpretable than MSE and better at handling large errors.\n",
    "\n",
    "RMSE is preferable because it penalizes large errors, which is important in house price predictions where small errors in high-priced houses can be significant.\n"
   ]
  },
  {
   "cell_type": "markdown",
   "metadata": {
    "vscode": {
     "languageId": "plaintext"
    }
   },
   "source": [
    "**Q2. You have to built an SVM regression model and are trying to decide between using MSE or R-squared as your evaluation metric. Which metric would be more appropriate if your goal is to predict the actual price of a house as accurately as possible?**\n",
    "\n",
    "Ans:\n",
    "- MSE directly measures the average squared difference between actual house prices and predicted prices.\n",
    "- It penalizes larger errors more, which is crucial when predicting house prices because even small deviations can have a significant financial impact.\n",
    "- It provides a quantitative measure of prediction error in the same units as the target variable (squared price values), making it useful for optimizing the model."
   ]
  },
  {
   "cell_type": "markdown",
   "metadata": {
    "vscode": {
     "languageId": "plaintext"
    }
   },
   "source": [
    "**Q3. You have a dataset with a significant number of outliers and are trying to select an appropriate regression metric to use with your SVM model. Which metric would be the most appropriate in this scenario?**\n",
    "Ans: MAE\n",
    "- Less sensitive to outliers: Unlike Mean Squared Error (MSE), which squares the errors and disproportionately penalizes large deviations, MAE treats all errors equally.\n",
    "- Robust against extreme values: Since house prices often have extreme variations (e.g., luxury homes vs. standard homes), MAE provides a more balanced assessment of error.\n",
    "- Easy to interpret: MAE directly represents the average absolute difference between predicted and actual prices, making it straightforward to understand."
   ]
  },
  {
   "cell_type": "markdown",
   "metadata": {
    "vscode": {
     "languageId": "plaintext"
    }
   },
   "source": [
    "**Q4. You have built an SVM regression model using a polynomial kernel and are trying to select the best metric to evaluate its performance. You have calculated both MSE and RMSE and found that both values are very close. Which metric should you choose to use in this case?**\n",
    "\n",
    "Ans: I will use RMSE because it gives an intuitive measure of prediction error in the same scale as the target variable.\n",
    "\n",
    "Same Unit as Target Variable\n",
    "- RMSE is in the same unit as house prices, making it more interpretable.\n",
    "- MSE is in squared units, which is harder to relate to real-world values.\n",
    "\n",
    "Easier Interpretation\n",
    "- Since RMSE is the square root of MSE, it provides a more direct understanding of the average error magnitude.\n",
    "- MSE and RMSE Being Close Indicates Low Variance in Errors\n",
    "\n",
    "- When MSE and RMSE are similar, it means the error values are consistent and not widely spread, making RMSE a reliable choice.\n"
   ]
  },
  {
   "cell_type": "markdown",
   "metadata": {
    "vscode": {
     "languageId": "plaintext"
    }
   },
   "source": [
    "**Q5. You are comparing the performance of different SVM regression models using different kernels(linear, polynomial, and RBF) and are trying to select the  best evaluation metric. Which metric would be most appropriate if your goal is to measure how well the model explains the variance in the target variable?**\n",
    "\n",
    "Ans: If the goal is to measure how well the model explains the variance in the target variable, the most appropriate evaluation metric is the R^2 score.\n",
    "\n",
    "- R² quantifies how much of the variation in the target variable is explained by the model.\n",
    "- A higher R² (closer to 1) indicates a better fit, while a lower R² (closer to 0 or negative) suggests the model is not capturing the variance well.\n",
    "- Since you are comparing SVM regression models with different kernels (linear, polynomial, and RBF), R² provides a standardized way to evaluate and rank their performance.\n",
    "- Since you are comparing SVM regression models with different kernels (linear, polynomial, and RBF), R² provides a standardized way to evaluate and rank their performance.\n",
    "- Unlike MSE or RMSE, R2 does not depend on the unit of the target variable, making it suitable for comparing models with different transformations or scaling."
   ]
  }
 ],
 "metadata": {
  "language_info": {
   "name": "python"
  }
 },
 "nbformat": 4,
 "nbformat_minor": 2
}
