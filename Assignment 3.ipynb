{
 "cells": [
  {
   "cell_type": "code",
   "execution_count": 1,
   "id": "bf57ace9",
   "metadata": {},
   "outputs": [
    {
     "data": {
      "text/plain": [
       "[1, 3, 5, 7, 9, 11, 13, 15, 17, 19, 21, 23, 25]"
      ]
     },
     "execution_count": 1,
     "metadata": {},
     "output_type": "execute_result"
    }
   ],
   "source": [
    "# Que 1\n",
    "# def is the keyword use to create a function\n",
    "def od_list():\n",
    "    l=[]\n",
    "    for i in range(1,26,2):\n",
    "        l.append(i)\n",
    "    return l\n",
    "od_list()  "
   ]
  },
  {
   "cell_type": "code",
   "execution_count": 2,
   "id": "d008873f",
   "metadata": {},
   "outputs": [
    {
     "name": "stdout",
     "output_type": "stream",
     "text": [
      "2\n",
      "4\n",
      "6\n",
      "owl\n",
      "nkj\n"
     ]
    }
   ],
   "source": [
    "#Que 2\n",
    "# *args is used to take no. of inputs as per the users choice which is later stored as tuple\n",
    "# **kwargs is used to take no. of inputs as per the users choice which is later stored as dictionary\n",
    "#Example of *args\n",
    "def args(*args):\n",
    "    for i in args:\n",
    "        if(i%2==0):\n",
    "            print(i)\n",
    "\n",
    "#Example of **kwargs:\n",
    "def kwargs(**kwargs):\n",
    "    for i in kwargs.values():\n",
    "        if(len(i)<6):\n",
    "            print(i)\n",
    "args(1,2,3,4,5,6,7)\n",
    "kwargs(a=\"orange\",b=\"bananana\",c=\"owl\",d=\"nkj\")"
   ]
  },
  {
   "cell_type": "code",
   "execution_count": 10,
   "id": "95d2a7ab",
   "metadata": {},
   "outputs": [
    {
     "name": "stdout",
     "output_type": "stream",
     "text": [
      "T\n",
      "2\n",
      "4\n",
      "6\n",
      "8\n",
      "10\n"
     ]
    }
   ],
   "source": [
    "#Que 3\n",
    "#iterator is an object that contains a countable number of values.\n",
    "#method used to initialise the iterator object is iter() and the method used for iteration is next()\n",
    "#Example of Iter function\n",
    "x=\"Trisha\"\n",
    "y=iter(x)\n",
    "print(next(y))\n",
    "\n",
    "#Example of next()\n",
    "l=iter([2,4,6,8,10,12,14,16,18,20])\n",
    "for i in range(5):\n",
    "    print(next(l))"
   ]
  },
  {
   "cell_type": "code",
   "execution_count": 5,
   "id": "8a2b243c",
   "metadata": {},
   "outputs": [
    {
     "name": "stdout",
     "output_type": "stream",
     "text": [
      "5\n",
      "4\n",
      "7\n"
     ]
    }
   ],
   "source": [
    "#Que 4\n",
    "#Generator function is a simple function containing yield keyword using which it can generate values.\n",
    "#Yield keyword is used for generating valuue\n",
    "#Example of generator function\n",
    "def gen_func():\n",
    "    yield 5\n",
    "    yield 4\n",
    "    yield 7\n",
    "for k in gen_func():\n",
    "    print(k)"
   ]
  },
  {
   "cell_type": "code",
   "execution_count": 29,
   "id": "b62b41cd",
   "metadata": {},
   "outputs": [
    {
     "name": "stdout",
     "output_type": "stream",
     "text": [
      "2\n",
      "3\n",
      "4\n",
      "5\n",
      "7\n",
      "11\n",
      "13\n",
      "17\n",
      "19\n",
      "23\n",
      "29\n",
      "31\n",
      "37\n",
      "41\n",
      "43\n",
      "47\n",
      "53\n",
      "59\n",
      "61\n",
      "67\n"
     ]
    }
   ],
   "source": [
    "#Que 5\n",
    "def prime_gen():\n",
    "    k=0\n",
    "    for i in range(2,1000):\n",
    "        for j in range(2,int(i/2)):\n",
    "            if(i%j==0):\n",
    "                k=1\n",
    "                break\n",
    "        if(k==0):\n",
    "            yield i\n",
    "        else:\n",
    "            k=0\n",
    "r=prime_gen()\n",
    "for i in range(20):\n",
    "    print(next(r))"
   ]
  },
  {
   "cell_type": "code",
   "execution_count": 1,
   "id": "26f5123b",
   "metadata": {},
   "outputs": [
    {
     "name": "stdout",
     "output_type": "stream",
     "text": [
      "0\n",
      "1\n",
      "1\n",
      "2\n",
      "3\n",
      "5\n",
      "8\n",
      "13\n",
      "21\n",
      "34\n"
     ]
    }
   ],
   "source": [
    "#Que 6\n",
    "a,b=0,1\n",
    "i=0\n",
    "while i<10:\n",
    "    print(a)\n",
    "    a,b=b,a+b\n",
    "    i+=1"
   ]
  },
  {
   "cell_type": "code",
   "execution_count": 16,
   "id": "da6023ab",
   "metadata": {},
   "outputs": [
    {
     "name": "stdout",
     "output_type": "stream",
     "text": [
      "['p', 'w', 's', 'k', 'i', 'l', 'l', 's']\n"
     ]
    }
   ],
   "source": [
    "#Que 7\n",
    "r=\"pwskills\"\n",
    "l=[i for i in r]\n",
    "print(l)"
   ]
  },
  {
   "cell_type": "code",
   "execution_count": 14,
   "id": "db676364",
   "metadata": {},
   "outputs": [
    {
     "name": "stdout",
     "output_type": "stream",
     "text": [
      "pallindrome\n"
     ]
    }
   ],
   "source": [
    "#Que 8\n",
    "n=12321\n",
    "org=n\n",
    "r=1\n",
    "k=0\n",
    "while(n>0):\n",
    "    k=k*10\n",
    "    r=n%10\n",
    "    k=(k+r)\n",
    "    n=n//10\n",
    "if(k==org):\n",
    "    print(\"pallindrome\")\n",
    "else:\n",
    "    print(\"Not a pallindrome\")"
   ]
  },
  {
   "cell_type": "code",
   "execution_count": 18,
   "id": "6ebf2722",
   "metadata": {},
   "outputs": [
    {
     "name": "stdout",
     "output_type": "stream",
     "text": [
      "[1, 3, 5, 7, 9, 11, 13, 15, 17, 19, 21, 23, 25, 27, 29, 31, 33, 35, 37, 39, 41, 43, 45, 47, 49, 51, 53, 55, 57, 59, 61, 63, 65, 67, 69, 71, 73, 75, 77, 79, 81, 83, 85, 87, 89, 91, 93, 95, 97, 99]\n"
     ]
    }
   ],
   "source": [
    "#Que 9\n",
    "l=[i for i in range(1,100) if i%2 != 0]\n",
    "print(l)"
   ]
  }
 ],
 "metadata": {
  "kernelspec": {
   "display_name": "Python 3 (ipykernel)",
   "language": "python",
   "name": "python3"
  },
  "language_info": {
   "codemirror_mode": {
    "name": "ipython",
    "version": 3
   },
   "file_extension": ".py",
   "mimetype": "text/x-python",
   "name": "python",
   "nbconvert_exporter": "python",
   "pygments_lexer": "ipython3",
   "version": "3.8.12"
  }
 },
 "nbformat": 4,
 "nbformat_minor": 5
}
